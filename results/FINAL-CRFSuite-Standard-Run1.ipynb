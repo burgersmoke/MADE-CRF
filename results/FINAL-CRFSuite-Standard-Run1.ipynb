{
 "cells": [
  {
   "cell_type": "markdown",
   "metadata": {},
   "source": [
    "# The goal of this notebook is to wire up evaluation from the MADE challenge using BIOC files"
   ]
  },
  {
   "cell_type": "code",
   "execution_count": 1,
   "metadata": {
    "collapsed": true
   },
   "outputs": [],
   "source": [
    "import os\n",
    "import json\n",
    "import random\n",
    "import pickle\n",
    "import string\n",
    "from collections import Counter\n",
    "import glob\n",
    "import time\n",
    "import subprocess\n",
    "import datetime\n",
    "\n",
    "import numpy as np\n",
    "import pandas as pd\n",
    "\n",
    "from sklearn.metrics import confusion_matrix\n",
    "from sklearn.metrics import make_scorer\n",
    "\n",
    "import nltk\n",
    "\n",
    "from sklearn.externals import joblib"
   ]
  },
  {
   "cell_type": "code",
   "execution_count": 2,
   "metadata": {
    "collapsed": true
   },
   "outputs": [],
   "source": [
    "import matplotlib.pyplot as plt\n",
    "%matplotlib inline"
   ]
  },
  {
   "cell_type": "code",
   "execution_count": 3,
   "metadata": {},
   "outputs": [
    {
     "name": "stderr",
     "output_type": "stream",
     "text": [
      "c:\\anaconda3\\lib\\site-packages\\gensim\\utils.py:1197: UserWarning: detected Windows; aliasing chunkize to chunkize_serial\n",
      "  warnings.warn(\"detected Windows; aliasing chunkize to chunkize_serial\")\n"
     ]
    },
    {
     "data": {
      "text/plain": [
       "'3.4.0'"
      ]
     },
     "execution_count": 3,
     "metadata": {},
     "output_type": "execute_result"
    }
   ],
   "source": [
    "import gensim\n",
    "from gensim.models.keyedvectors import KeyedVectors\n",
    "\n",
    "gensim.__version__"
   ]
  },
  {
   "cell_type": "code",
   "execution_count": 4,
   "metadata": {},
   "outputs": [
    {
     "name": "stderr",
     "output_type": "stream",
     "text": [
      "c:\\anaconda3\\lib\\site-packages\\h5py\\__init__.py:36: FutureWarning: Conversion of the second argument of issubdtype from `float` to `np.floating` is deprecated. In future, it will be treated as `np.float64 == np.dtype(float).type`.\n",
      "  from ._conv import register_converters as _register_converters\n",
      "Using TensorFlow backend.\n"
     ]
    }
   ],
   "source": [
    "# this package can be found here : \n",
    "# https://github.com/Hironsan/anago\n",
    "# after cloning, it can be installed with the typical : \n",
    "# python setup.py install\n",
    "\n",
    "import anago"
   ]
  },
  {
   "cell_type": "code",
   "execution_count": 5,
   "metadata": {
    "collapsed": true
   },
   "outputs": [],
   "source": [
    "import bioc\n",
    "\n",
    "from bioc_evaluation import get_f_scores"
   ]
  },
  {
   "cell_type": "code",
   "execution_count": 6,
   "metadata": {
    "collapsed": true
   },
   "outputs": [],
   "source": [
    "import sklearn\n",
    "from sklearn.model_selection import GridSearchCV,RandomizedSearchCV, ParameterGrid\n",
    "from sklearn.metrics import roc_auc_score, f1_score, precision_score, recall_score\n",
    "\n",
    "import sklearn_crfsuite\n",
    "from sklearn_crfsuite.utils import flatten\n",
    "from sklearn_crfsuite import metrics"
   ]
  },
  {
   "cell_type": "code",
   "execution_count": 7,
   "metadata": {},
   "outputs": [
    {
     "name": "stdout",
     "output_type": "stream",
     "text": [
      "Imported custom BASIC modules\n"
     ]
    }
   ],
   "source": [
    "import basic\n",
    "from basic.nlp.tokenizers import clinical_tokenizers\n",
    "from basic.nlp.annotation.annotation import Annotation, AnnotatedDocument\n",
    "from basic.MADE.madetokenizer import build_made_tokenizer\n",
    "from basic.nlp.sequenceutils import get_sentence_bio_tagged_tokens\n",
    "from basic.MADE.madeutils import read_made_data, train_default_anago_model, get_all_sentence_tokens_and_tags, create_model, gather_validation_metrics\n",
    "from basic.MADE.madeutils import get_coarse_labels, evaluate_via_bioc, plot_confusion_matrix\n",
    "\n",
    "print('Imported custom BASIC modules')"
   ]
  },
  {
   "cell_type": "code",
   "execution_count": 8,
   "metadata": {},
   "outputs": [
    {
     "name": "stdout",
     "output_type": "stream",
     "text": [
      "[nltk_data] Downloading package averaged_perceptron_tagger to\n",
      "[nltk_data]     C:\\Users\\slick\\AppData\\Roaming\\nltk_data...\n",
      "[nltk_data]   Package averaged_perceptron_tagger is already up-to-\n",
      "[nltk_data]       date!\n",
      "Wall time: 1.38 s\n"
     ]
    },
    {
     "data": {
      "text/plain": [
       "True"
      ]
     },
     "execution_count": 8,
     "metadata": {},
     "output_type": "execute_result"
    }
   ],
   "source": [
    "%time nltk.download('averaged_perceptron_tagger')"
   ]
  },
  {
   "cell_type": "code",
   "execution_count": 9,
   "metadata": {
    "collapsed": true
   },
   "outputs": [],
   "source": [
    "MADE_ALL_SETS_BASE_DIR = r'C:\\temp_MADE'\n",
    "MADE_BASE_DIR = r'{0}\\MADE-1.0'.format(MADE_ALL_SETS_BASE_DIR)\n",
    "PREDICTION_DIR = 'predictions'"
   ]
  },
  {
   "cell_type": "code",
   "execution_count": 10,
   "metadata": {
    "collapsed": true
   },
   "outputs": [],
   "source": [
    "CLUSTERS_BASE_DIR = r'resources/clusters'"
   ]
  },
  {
   "cell_type": "code",
   "execution_count": 11,
   "metadata": {
    "collapsed": true
   },
   "outputs": [],
   "source": [
    "MEDEX_DIR = r'resources/medex'\n",
    "drug_term_file = 'medex_filtered_terms.txt'\n",
    "drug_term_path = os.path.join(MEDEX_DIR, drug_term_file)"
   ]
  },
  {
   "cell_type": "code",
   "execution_count": 12,
   "metadata": {},
   "outputs": [
    {
     "name": "stdout",
     "output_type": "stream",
     "text": [
      "<nltk.tag.brill.BrillTagger object at 0x00000230732CA240>\n",
      "[('The', 'DT'), ('cat', '-None-'), ('walked', 'VBD'), ('onto', 'IN'), ('an', 'DT'), ('airplane', 'NN')]\n"
     ]
    }
   ],
   "source": [
    "# let's also load and test a Brill Part of Speech tagger which was trained on the Penn Treebank:\n",
    "BRILL_TAGGER_FILE_PATH = 'resources/pos/treebank_brill_aubt.pickle'\n",
    "brill_tagger = pickle.load(open(BRILL_TAGGER_FILE_PATH, 'rb'))\n",
    "print(brill_tagger)\n",
    "\n",
    "# now let's kick the tires on this tagger\n",
    "test_tag_tokens = 'The cat walked onto an airplane'.split()\n",
    "print(brill_tagger.tag(test_tag_tokens))"
   ]
  },
  {
   "cell_type": "code",
   "execution_count": 13,
   "metadata": {
    "collapsed": true
   },
   "outputs": [],
   "source": [
    "MAX_SENTENCE_LENGTH = 50"
   ]
  },
  {
   "cell_type": "markdown",
   "metadata": {},
   "source": [
    "# Let's load in the original training test split"
   ]
  },
  {
   "cell_type": "code",
   "execution_count": 14,
   "metadata": {},
   "outputs": [
    {
     "name": "stdout",
     "output_type": "stream",
     "text": [
      "Building MADE tokenizer...\n",
      "('.', '!')\n",
      "Compiled 8 total preprocessing regular expressions\n",
      "Total annotated documents loaded : 876\n",
      "Total Annotated Docs : 876\n"
     ]
    }
   ],
   "source": [
    "made_tokenizer = build_made_tokenizer()\n",
    "annotated_docs = read_made_data(MADE_BASE_DIR, made_tokenizer)\n",
    "\n",
    "print('Total Annotated Docs : {}'.format(len(annotated_docs)))"
   ]
  },
  {
   "cell_type": "code",
   "execution_count": 15,
   "metadata": {
    "collapsed": true
   },
   "outputs": [],
   "source": [
    "RANDOM_STATE = 777"
   ]
  },
  {
   "cell_type": "markdown",
   "metadata": {},
   "source": [
    "# To evaluate properly, we need to split apart by documents first so that we have the ability to track tokens"
   ]
  },
  {
   "cell_type": "code",
   "execution_count": 16,
   "metadata": {},
   "outputs": [
    {
     "name": "stderr",
     "output_type": "stream",
     "text": [
      "c:\\anaconda3\\lib\\site-packages\\sklearn\\model_selection\\_split.py:2026: FutureWarning: From version 0.21, test_size will always complement train_size unless both are specified.\n",
      "  FutureWarning)\n"
     ]
    },
    {
     "name": "stdout",
     "output_type": "stream",
     "text": [
      "Total training documents : 700\n",
      "Total test documents : 176\n"
     ]
    }
   ],
   "source": [
    "train_docs, test_docs = sklearn.model_selection.train_test_split(annotated_docs, train_size=0.8, random_state=RANDOM_STATE)\n",
    "print('Total training documents : {}'.format(len(train_docs)))\n",
    "print('Total test documents : {}'.format(len(test_docs)))"
   ]
  },
  {
   "cell_type": "code",
   "execution_count": 17,
   "metadata": {},
   "outputs": [
    {
     "name": "stdout",
     "output_type": "stream",
     "text": [
      "Fetching tokens and tags...\n",
      "DONE Fetching tokens and tags\n",
      "Wall time: 22.3 s\n"
     ]
    }
   ],
   "source": [
    "%%time\n",
    "\n",
    "# now let' pile up all of our documents and split them into an initial fold\n",
    "print('Fetching tokens and tags...')\n",
    "X_train, y_train = get_all_sentence_tokens_and_tags(train_docs)\n",
    "X_test, y_test = get_all_sentence_tokens_and_tags(test_docs)\n",
    "print('DONE Fetching tokens and tags')"
   ]
  },
  {
   "cell_type": "code",
   "execution_count": 18,
   "metadata": {},
   "outputs": [
    {
     "name": "stdout",
     "output_type": "stream",
     "text": [
      "CRFExtractor class ready\n"
     ]
    }
   ],
   "source": [
    "class CRFExtractor(object):\n",
    "    def __init__(self,\n",
    "                 window_size = 2,\n",
    "                 char_ngrams_enabled = set([2, 3]),\n",
    "                enable_stem_features = False,\n",
    "                enable_pos_features = False,\n",
    "                 enable_lexical_features = True,\n",
    "                pos_tagger = None,\n",
    "                word_cluster_map_tuples = [],\n",
    "                enable_sentence_window_clusters = False,\n",
    "                enable_local_window_clusters = False,\n",
    "                 enable_cluster_bigrams = False,\n",
    "                drug_term_set = set(),\n",
    "                enable_drug_term_features = False):\n",
    "        print('Creating CRFExtractor')\n",
    "        self.window_size = window_size\n",
    "        self.char_ngrams_enabled = char_ngrams_enabled\n",
    "        self.enable_stem_features = enable_stem_features\n",
    "        self.enable_pos_features = enable_pos_features\n",
    "        self.enable_lexical_features = enable_lexical_features\n",
    "        self.pos_tagger = pos_tagger\n",
    "        self.word_cluster_map_tuples = word_cluster_map_tuples\n",
    "        self.enable_sentence_window_clusters = enable_sentence_window_clusters\n",
    "        self.enable_local_window_clusters = enable_local_window_clusters\n",
    "        self.enable_cluster_bigrams = enable_cluster_bigrams\n",
    "        self.drug_term_set = drug_term_set\n",
    "        self.enable_drug_term_features = enable_drug_term_features\n",
    "        \n",
    "        # this is used to collect drug terms found\n",
    "        self.found_drug_term_set = set()\n",
    "        \n",
    "        print('Total word maps loaded : {}'.format(len(self.word_cluster_map_tuples)))\n",
    "        print('Character ngrams enabled : {}'.format(str(char_ngrams_enabled)))\n",
    "        \n",
    "    def add_sentence_window_clusters(self, feature_prefix, tokens, features, cluster_mapping_tokens_map):\n",
    "        if len(self.word_cluster_map_tuples) == 0:\n",
    "            return\n",
    "        \n",
    "        # iterate through the list of mappings already computed\n",
    "        for map_prefix, token_clusters in cluster_mapping_tokens_map.items():\n",
    "            # loop through each token in the window and add a one-hot value for each cluster mapped\n",
    "            for cluster_mapping in token_clusters:\n",
    "                if cluster_mapping is not None:\n",
    "                    # feature name should include which direction (left/right) and which clusters were found\n",
    "                    cluster_feature_name = '{0}_{1}_CL_{2}'.format(feature_prefix, map_prefix, str(cluster_mapping))\n",
    "                    features[cluster_feature_name] = True\n",
    "                    \n",
    "    def add_drug_window_features(self, feature_prefix, tokens, features):\n",
    "        found_in_window = False\n",
    "        for token in tokens:\n",
    "            # drug set is all lowercase\n",
    "            token_lower = token.lower()\n",
    "            if token_lower in self.drug_term_set:\n",
    "                found_in_window = True\n",
    "                self.found_drug_term_set.add(token_lower)\n",
    "                break\n",
    "                \n",
    "        if found_in_window:\n",
    "            drug_feature_name = 'D_{0}'.format(feature_prefix)\n",
    "            features[drug_feature_name] = True\n",
    "        \n",
    "    def add_local_window_cluster(self, prefix, token_idx, features, cluster_mapping_tokens_map):\n",
    "        if len(self.word_cluster_map_tuples) == 0:\n",
    "            return\n",
    "        \n",
    "        # iterate through the list of mappings already computed\n",
    "        for map_prefix, token_clusters in cluster_mapping_tokens_map.items():\n",
    "            cluster_mapping = token_clusters[token_idx]\n",
    "            if cluster_mapping is not None:\n",
    "                # feature name should include the position \n",
    "                cluster_feature_name = '{0}_{1}_CL'.format(prefix, map_prefix)\n",
    "                # and then the value will be the categorical cluster value\n",
    "                features[cluster_feature_name] = str(cluster_mapping)\n",
    "                \n",
    "    def add_cluster_bigrams(self, i, cluster_tokens_map, features):\n",
    "        # for each map, let's work over each window\n",
    "        for cluster_prefix, token_mappings in cluster_tokens_map.items():\n",
    "            # work across the window\n",
    "            for window_idx in range(-1 * self.window_size, self.window_size + 1):\n",
    "                # make sure that we do not go out of bounds\n",
    "                token_a_idx = i + window_idx\n",
    "                token_b_idx = i + window_idx + 1\n",
    "                if token_a_idx < 0 or token_b_idx >= len(token_mappings):\n",
    "                    continue\n",
    "                \n",
    "                #print('Working on token index {0}'.format(curr_token_idx))\n",
    "                token_a_prefix = str(window_idx)\n",
    "                token_b_prefix = str(window_idx + 1)\n",
    "                \n",
    "                feature_name = '{0}_G_{1}_{2}'.format(cluster_prefix, token_a_prefix, token_b_prefix)\n",
    "                feature_value = '{0}_{1}'.format(token_mappings[token_a_idx], token_mappings[token_b_idx])\n",
    "                features[feature_name] = feature_value\n",
    "                \n",
    "    def get_token_cluster(self, token, word_cluster_map):\n",
    "        # default to unknown\n",
    "        cluster_mapping = 'U'\n",
    "        if token in word_cluster_map:\n",
    "            cluster_mapping = word_cluster_map[token]\n",
    "        elif token.lower() in word_cluster_map:\n",
    "            cluster_mapping = word_cluster_map[token.lower()]\n",
    "            # if this was found as lower, let's save the original form with the same mapping to\n",
    "            # hopefully make the next time faster\n",
    "            word_cluster_map[token] = cluster_mapping\n",
    "            \n",
    "        return cluster_mapping\n",
    "    \n",
    "    def sent2features(self, sent):\n",
    "        sentence_features = []\n",
    "        \n",
    "        # TODO : This is more useful on documents which might be ALL UPPERCASE\n",
    "        use_lower_tokens = False\n",
    "        sentence_tokens_preferred = sent\n",
    "        if use_lower_tokens:\n",
    "            sentence_tokens_lower = [x.lower() for x in sent]\n",
    "            sentence_tokens_preferred = sentence_tokens_lower\n",
    "            \n",
    "        # POS tagging (if enabled)\n",
    "        sentence_pos_tag_pairs = None\n",
    "        if self.enable_pos_features:\n",
    "            sentence_pos_tag_pairs = self.pos_tagger.tag(sentence_tokens_preferred)\n",
    "            \n",
    "        # for each cluster map, let's pre-compute the mappings so we can do easily lookups later\n",
    "        cluster_mapping_tokens_map = {}\n",
    "        for word_cluster_map_tuple in self.word_cluster_map_tuples:\n",
    "            map_prefix = word_cluster_map_tuple[0]\n",
    "            word_cluster_map = word_cluster_map_tuple[1]\n",
    "            \n",
    "            token_clusters = []\n",
    "            \n",
    "            # now get the mapping for each token\n",
    "            for token in sentence_tokens_preferred:\n",
    "                cluster = self.get_token_cluster(token, word_cluster_map)\n",
    "                token_clusters.append(cluster)\n",
    "            \n",
    "            # save this\n",
    "            cluster_mapping_tokens_map[map_prefix] = token_clusters\n",
    "        \n",
    "        # now loop through each word in the sentence and create a feature vector (dictionary) for each\n",
    "        for i in range(len(sent)):\n",
    "            word = sent[i]\n",
    "        \n",
    "            # let's work across the window of tokens specified\n",
    "            features = {}\n",
    "            \n",
    "            # let's get tokens on either side\n",
    "            tokens_left = sentence_tokens_preferred[:i]\n",
    "            tokens_right = tokens_left = sentence_tokens_preferred[i + 1:]\n",
    "            \n",
    "            if self.enable_drug_term_features:\n",
    "                self.add_drug_window_features('L', tokens_left, features)\n",
    "                self.add_drug_window_features('R', tokens_right, features)\n",
    "                self.add_drug_window_features('ALL', sentence_tokens_preferred, features)\n",
    "\n",
    "            if self.enable_sentence_window_clusters:\n",
    "                self.add_sentence_window_clusters('L', tokens_left, features, cluster_mapping_tokens_map)\n",
    "                self.add_sentence_window_clusters('R', tokens_right, features, cluster_mapping_tokens_map)\n",
    "                \n",
    "            if self.enable_cluster_bigrams:\n",
    "                self.add_cluster_bigrams(i, cluster_mapping_tokens_map, features)\n",
    "\n",
    "            for window_idx in range(-1 * self.window_size, self.window_size + 1):\n",
    "                curr_token_idx = i + window_idx\n",
    "                #print('Working on token index {0}'.format(curr_token_idx))\n",
    "                prefix = str(window_idx)\n",
    "\n",
    "                if curr_token_idx < 0:\n",
    "                    if self.enable_lexical_features:\n",
    "                        features[prefix + 'wlow'] = 'bos'     \n",
    "                elif curr_token_idx >= len(sent):\n",
    "                    if self.enable_lexical_features:\n",
    "                        features[prefix + 'wlow'] = 'eos'\n",
    "                else:\n",
    "                    word = sentence_tokens_preferred[curr_token_idx]\n",
    "\n",
    "                    if self.enable_local_window_clusters:\n",
    "                        self.add_local_window_cluster(prefix, curr_token_idx, features, cluster_mapping_tokens_map)\n",
    "\n",
    "                    word_lower = word.lower()\n",
    "                    if self.enable_lexical_features:\n",
    "                        features[prefix + 'wlow'] = word_lower\n",
    "                        \n",
    "                        if self.enable_stem_features:\n",
    "                            features[prefix + 'wstem'] = self.stemmer.stem(word_lower)\n",
    "                        \n",
    "                        if 2 in self.char_ngrams_enabled:\n",
    "                            features[prefix + 'c[-2:]'] = word_lower[-2:]\n",
    "                            features[prefix + 'c[:2]'] = word_lower[:2]\n",
    "                        if 3 in self.char_ngrams_enabled:\n",
    "                            features[prefix + 'c[-3:]'] = word_lower[-3:]\n",
    "                            features[prefix + 'word[:3]'] = word_lower[:3]\n",
    "                        if 4 in self.char_ngrams_enabled:\n",
    "                            features[prefix + 'c[-4:]'] = word_lower[-4:]\n",
    "                            features[prefix + 'c[:4]'] = word_lower[:4]\n",
    "                            \n",
    "                    if self.enable_drug_term_features:\n",
    "                        # drug set is all lowercase\n",
    "                        if word_lower in drug_term_set:\n",
    "                            features[prefix + 'wdrug'] = True\n",
    "\n",
    "                    features[prefix + 'w.islower'] = word.islower()\n",
    "                    features[prefix + 'w.isupper'] = word.isupper()\n",
    "                    features[prefix + 'w.istitle'] = word.istitle()\n",
    "                    features[prefix + 'w.isdigit'] = word.isdigit()\n",
    "                    features[prefix + 'w.any_alpha'] = any(char.isalpha() for char in word_lower)\n",
    "                    features[prefix + 'w.all_punct'] = all(char in string.punctuation for char in word_lower)\n",
    "\n",
    "                    if self.enable_pos_features:\n",
    "                        postag_pair = sentence_pos_tag_pairs[curr_token_idx]\n",
    "                        # This pair will be in the form ('token', 'TAG')\n",
    "                        features[prefix + 'pos'] = postag_pair[1] \n",
    "\n",
    "                # update for any word encountered\n",
    "                #features.update(word_features)\n",
    "\n",
    "            sentence_features.append(features)\n",
    "        return sentence_features\n",
    "    \n",
    "print('CRFExtractor class ready')"
   ]
  },
  {
   "cell_type": "code",
   "execution_count": 19,
   "metadata": {},
   "outputs": [
    {
     "name": "stdout",
     "output_type": "stream",
     "text": [
      "Loading clusters from : resources/clusters\\WordClusters_K500_BatchKmeans_wikipedia-pubmed-and-PMC-w2v.pickle\n",
      "Word Cluster map size : 5443656\n",
      "Loading clusters from : resources/clusters\\WordClusters_K5000_BatchKmeans_wikipedia-pubmed-and-PMC-w2v.pickle\n",
      "Word Cluster map size : 5443656\n",
      "Loading clusters from : resources/clusters\\WordClusters_K10000_BatchKmeans_wikipedia-pubmed-and-PMC-w2v.pickle\n",
      "Word Cluster map size : 5443656\n",
      "Loading clusters from : resources/clusters\\WordClusters_K500_BatchKmeans_pubmed+wiki+pitts-nopunct-lower-cbow-n10.pickle\n",
      "Word Cluster map size : 1352549\n",
      "Loading clusters from : resources/clusters\\WordClusters_K5000_BatchKmeans_pubmed+wiki+pitts-nopunct-lower-cbow-n10.pickle\n",
      "Word Cluster map size : 1352549\n",
      "Loading clusters from : resources/clusters\\WordClusters_K10000_BatchKmeans_pubmed+wiki+pitts-nopunct-lower-cbow-n10.pickle\n",
      "Word Cluster map size : 1352549\n"
     ]
    }
   ],
   "source": [
    "cluster_sizes = [500, 5000, 10000]\n",
    "external_cluster_tuples = []\n",
    "pitt_cluster_tuples = []\n",
    "\n",
    "cluster_prefix_filepart_map = {'E' : 'wikipedia-pubmed-and-PMC-w2v', 'P' : 'pubmed+wiki+pitts-nopunct-lower-cbow-n10'}\n",
    "\n",
    "for prefix, filepart in cluster_prefix_filepart_map.items():\n",
    "    for cluster_size in cluster_sizes:\n",
    "        full_prefix = '{0}_{1}'.format(prefix, cluster_size)\n",
    "        cluster_filename = 'WordClusters_K{0}_BatchKmeans_{1}.pickle'.format(cluster_size, filepart)\n",
    "        cluster_filepath = os.path.join(CLUSTERS_BASE_DIR, cluster_filename)\n",
    "        print('Loading clusters from : {}'.format(cluster_filepath))\n",
    "        with open(cluster_filepath, 'rb') as handle:\n",
    "            word_cluster_map = pickle.load(handle)\n",
    "            print('Word Cluster map size : {}'.format(len(word_cluster_map)))\n",
    "            \n",
    "            if prefix == 'E':\n",
    "                external_cluster_tuples.append(tuple((full_prefix, word_cluster_map)))\n",
    "            elif prefix == 'P':\n",
    "                pitt_cluster_tuples.append(tuple((full_prefix, word_cluster_map)))"
   ]
  },
  {
   "cell_type": "code",
   "execution_count": 20,
   "metadata": {},
   "outputs": [
    {
     "name": "stdout",
     "output_type": "stream",
     "text": [
      "Total Drug terms added : 17643\n"
     ]
    }
   ],
   "source": [
    "drug_term_set = set()\n",
    "with open(drug_term_path, 'r') as drug_file:\n",
    "    for line in drug_file:\n",
    "        line = line.strip()\n",
    "        drug_term_set.add(line)\n",
    "        \n",
    "print('Total Drug terms added : {}'.format(len(drug_term_set)))"
   ]
  },
  {
   "cell_type": "code",
   "execution_count": 21,
   "metadata": {},
   "outputs": [
    {
     "name": "stdout",
     "output_type": "stream",
     "text": [
      "Prepping better Standard extractor\n",
      "Creating CRFExtractor\n",
      "Total word maps loaded : 3\n",
      "Character ngrams enabled : {2, 3}\n",
      "Extracting features...\n",
      "DONE extracting features...\n",
      "Wall time: 1min 17s\n"
     ]
    }
   ],
   "source": [
    "%%time\n",
    "\n",
    "# set each one of these to determine which final submission set we are writing out\n",
    "#FEATURE_SET = 'Fast'\n",
    "FEATURE_SET = 'Standard'\n",
    "#FEATURE_SET = 'Extended'\n",
    "\n",
    "RUN_NAME = 'Run1'\n",
    "#RUN_NAME = 'Run2'\n",
    "#RUN_NAME = 'SGD'\n",
    "#RUN_NAME = 'AP'\n",
    "#RUN_NAME = 'PA'\n",
    "#RUN_NAME = 'AROW'\n",
    "\n",
    "if FEATURE_SET == 'Fast':\n",
    "    print('Prepping fast extractor for rapid development...')\n",
    "    extractor = CRFExtractor(\n",
    "                            char_ngrams_enabled = set(),\n",
    "                            word_cluster_map_tuples = [],\n",
    "                            #word_cluster_map_tuples = external_cluster_tuples + pitt_cluster_tuples,\n",
    "                            enable_pos_features = False,\n",
    "                            enable_lexical_features = False,\n",
    "                            pos_tagger = None,\n",
    "                            enable_local_window_clusters = False,\n",
    "                            enable_sentence_window_clusters = False,\n",
    "                            enable_cluster_bigrams = False,\n",
    "                            drug_term_set = set(),\n",
    "                            enable_drug_term_features = False,\n",
    "                            window_size = 0)\n",
    "elif FEATURE_SET == 'Standard':\n",
    "    print('Prepping better Standard extractor')\n",
    "    extractor = CRFExtractor(\n",
    "                            #char_ngrams_enabled = set([2, 3, 4]), \n",
    "                            char_ngrams_enabled = set([2, 3]), \n",
    "                            #word_cluster_map_tuples = external_cluster_tuples,\n",
    "                            word_cluster_map_tuples = pitt_cluster_tuples,\n",
    "                            #word_cluster_map_tuples = external_cluster_tuples + pitt_cluster_tuples,\n",
    "                            enable_pos_features = True,\n",
    "                            enable_lexical_features = True,\n",
    "                            pos_tagger = brill_tagger,\n",
    "                            enable_local_window_clusters = True,\n",
    "                            enable_sentence_window_clusters = False,\n",
    "                            enable_cluster_bigrams = True,\n",
    "                            drug_term_set = set(),\n",
    "                            enable_drug_term_features = False,\n",
    "                            window_size = 2\n",
    "                            )\n",
    "    \n",
    "elif FEATURE_SET == 'Extended':\n",
    "    print('Prepping better Extended extractor')\n",
    "    extractor = CRFExtractor(\n",
    "                            #char_ngrams_enabled = set([2, 3, 4]), \n",
    "                            char_ngrams_enabled = set([2, 3]), \n",
    "                            #word_cluster_map_tuples = external_cluster_tuples,\n",
    "                            #word_cluster_map_tuples = pitt_cluster_tuples,\n",
    "                            word_cluster_map_tuples = external_cluster_tuples + pitt_cluster_tuples,\n",
    "                            enable_pos_features = True,\n",
    "                            enable_lexical_features = True,\n",
    "                            pos_tagger = brill_tagger,\n",
    "                            enable_local_window_clusters = True,\n",
    "                            enable_sentence_window_clusters = False,\n",
    "                            enable_cluster_bigrams = True,\n",
    "                            drug_term_set = drug_term_set,\n",
    "                            enable_drug_term_features = True,\n",
    "                            window_size = 2\n",
    "                            )\n",
    "\n",
    "if False:\n",
    "    print('Example features : ')\n",
    "    example_features = [extractor.sent2features(s) for s in X_train[0]]\n",
    "    print(example_features)\n",
    "\n",
    "print('Extracting features...')\n",
    "X_train_feat = [extractor.sent2features(s) for s in X_train]\n",
    "X_test_feat = [extractor.sent2features(s) for s in X_test]\n",
    "print('DONE extracting features...')"
   ]
  },
  {
   "cell_type": "code",
   "execution_count": 22,
   "metadata": {},
   "outputs": [],
   "source": [
    "for drug_term in sorted(list(extractor.found_drug_term_set)):\n",
    "    print(drug_term)"
   ]
  },
  {
   "cell_type": "code",
   "execution_count": 23,
   "metadata": {
    "collapsed": true
   },
   "outputs": [],
   "source": [
    "#print(X_train_feat[:50])"
   ]
  },
  {
   "cell_type": "markdown",
   "metadata": {},
   "source": [
    "# Train the model"
   ]
  },
  {
   "cell_type": "code",
   "execution_count": 24,
   "metadata": {},
   "outputs": [
    {
     "name": "stdout",
     "output_type": "stream",
     "text": [
      "Set values for Run1\n",
      "L1/L2 Values : c1 = 0.1, c2 = 0.5\n",
      "Algorithm being used for training : lbfgs\n",
      "max_iterations = 100\n",
      "Training CRF...\n",
      "Training using all available data...\n",
      "DONE Training CRF...\n",
      "CRF(algorithm='lbfgs', all_possible_states=None,\n",
      "  all_possible_transitions=True, averaging=None, c=None, c1=0.1, c2=0.5,\n",
      "  calibration_candidates=None, calibration_eta=None,\n",
      "  calibration_max_trials=None, calibration_rate=None,\n",
      "  calibration_samples=None, delta=None, epsilon=None, error_sensitive=None,\n",
      "  gamma=None, keep_tempfiles=None, linesearch=None, max_iterations=100,\n",
      "  max_linesearch=None, min_freq=None, model_filename=None,\n",
      "  num_memories=None, pa_type=None, period=None, trainer_cls=None,\n",
      "  variance=None, verbose=False)\n",
      "Wall time: 13min 5s\n"
     ]
    }
   ],
   "source": [
    "%%time\n",
    "\n",
    "SINGLE_FOLD_FIT = True\n",
    "WRITE_TEST_PREDICTIONS = True\n",
    "TRAIN_ON_ALL_DATA = True\n",
    "\n",
    "c1 = 0.0\n",
    "c2 = 0.0\n",
    "crf_algorithm = 'lbfgs'\n",
    "\n",
    "if RUN_NAME == 'Run1':\n",
    "    # this set allowed F1 of 86.8 on the TEST set (3/4/18 at 9pm)\n",
    "    c1 = 0.1\n",
    "    c2 = 0.5\n",
    "elif RUN_NAME == 'Run2':\n",
    "    # this set allowed a different F1 of 86.5 on the TEST set (3/5/18 at 7am):\n",
    "    c1 = 0.2\n",
    "    c2 = 0.75\n",
    "elif RUN_NAME == 'SGD':\n",
    "    # this set allowed a different F1 of 86.5 on the TEST set (3/5/18 at 7am):\n",
    "    # this set allowed F1 of 86.8 on the TEST set (3/4/18 at 9pm)\n",
    "    c1 = None\n",
    "    c2 = 0.5\n",
    "    crf_algorithm = 'l2sgd'\n",
    "elif RUN_NAME == 'AP':\n",
    "    c1 = None\n",
    "    c2 = None\n",
    "    crf_algorithm = 'ap'\n",
    "elif RUN_NAME == 'PA':\n",
    "    c1 = None\n",
    "    c2 = None\n",
    "    crf_algorithm = 'pa'\n",
    "elif RUN_NAME == 'AROW':\n",
    "    c1 = None\n",
    "    c2 = None\n",
    "    crf_algorithm = 'arow'\n",
    "    \n",
    "max_iterations = 100\n",
    "if FEATURE_SET == 'Fast':\n",
    "    max_iterations = 5\n",
    "    \n",
    "print('Set values for {}'.format(RUN_NAME))\n",
    "print('L1/L2 Values : c1 = {0}, c2 = {1}'.format(c1, c2))\n",
    "print('Algorithm being used for training : {}'.format(crf_algorithm))\n",
    "print('max_iterations = {0}'.format(max_iterations))\n",
    "\n",
    "crf = sklearn_crfsuite.CRF(\n",
    "    algorithm=crf_algorithm,\n",
    "    # these get set above based on the run\n",
    "    c1 = c1,\n",
    "    c2 = c2,\n",
    "    max_iterations = max_iterations,\n",
    "    all_possible_transitions=True\n",
    ")\n",
    "\n",
    "if SINGLE_FOLD_FIT:\n",
    "    print('Training CRF...')\n",
    "\n",
    "    if WRITE_TEST_PREDICTIONS and TRAIN_ON_ALL_DATA:\n",
    "        print('Training using all available data...')\n",
    "        crf.fit(X_train_feat + X_test_feat, y_train + y_test)\n",
    "    else:\n",
    "        print('Training using training data only...')\n",
    "        crf.fit(X_train_feat, y_train)\n",
    "\n",
    "    print('DONE Training CRF...')\n",
    "else:\n",
    "    print('Skipping single fold training')\n",
    "    \n",
    "print(crf)"
   ]
  },
  {
   "cell_type": "code",
   "execution_count": 25,
   "metadata": {},
   "outputs": [
    {
     "name": "stdout",
     "output_type": "stream",
     "text": [
      "models/CRF_Standard_Run1_09_12_2018/crf.pkl\n",
      "Wrote model to : [models/CRF_Standard_Run1_09_12_2018/crf.pkl]\n"
     ]
    }
   ],
   "source": [
    "today = datetime.date.today()\n",
    "\n",
    "\n",
    "model_dir = 'models/CRF_{0}_{1}_{2}'.format(FEATURE_SET, RUN_NAME, today.strftime('%m_%d_%Y'))\n",
    "\n",
    "if not os.path.exists(model_dir):\n",
    "    os.mkdir(model_dir)\n",
    "\n",
    "model_path = '{0}/crf.pkl'.format(model_dir)\n",
    "\n",
    "print(model_path)\n",
    "\n",
    "joblib.dump(crf, model_path) \n",
    "\n",
    "print('Wrote model to : [{0}]'.format(model_path))"
   ]
  },
  {
   "cell_type": "code",
   "execution_count": 26,
   "metadata": {},
   "outputs": [
    {
     "name": "stdout",
     "output_type": "stream",
     "text": [
      "{'I-Drug', 'B-SSLIF', 'B-Drug', 'O', 'I-Indication', 'I-Frequency', 'B-Severity', 'B-Dose', 'B-Indication', 'I-Dose', 'B-Duration', 'I-SSLIF', 'B-Route', 'B-ADE', 'I-Route', 'I-Severity', 'I-ADE', 'B-Frequency', 'I-Duration'}\n",
      "['I-Drug', 'B-SSLIF', 'B-Drug', 'I-Indication', 'I-Frequency', 'B-Severity', 'B-Dose', 'B-Indication', 'I-Dose', 'B-Duration', 'I-SSLIF', 'B-Route', 'B-ADE', 'I-Route', 'I-Severity', 'I-ADE', 'B-Frequency', 'I-Duration']\n"
     ]
    }
   ],
   "source": [
    "labels = []\n",
    "label_set = set()\n",
    "\n",
    "for instance_labels in (y_train + y_test):\n",
    "    label_set |= set(instance_labels)\n",
    "    \n",
    "labels = list(label_set)\n",
    "\n",
    "labels.remove('O')\n",
    "print(label_set)\n",
    "print(labels)"
   ]
  },
  {
   "cell_type": "code",
   "execution_count": 27,
   "metadata": {},
   "outputs": [
    {
     "name": "stdout",
     "output_type": "stream",
     "text": [
      "['B-ADE', 'I-ADE', 'B-Dose', 'I-Dose', 'B-Drug', 'I-Drug', 'B-Duration', 'I-Duration', 'B-Frequency', 'I-Frequency', 'B-Indication', 'I-Indication', 'B-Route', 'I-Route', 'B-SSLIF', 'I-SSLIF', 'B-Severity', 'I-Severity']\n",
      "['ADE', 'SSLIF', 'Severity', 'Indication', 'Dose', 'Route', 'Frequency', 'Drug', 'Duration']\n"
     ]
    }
   ],
   "source": [
    "# group B and I results\n",
    "sorted_labels = sorted(\n",
    "    labels,\n",
    "    key=lambda name: (name[1:], name[0])\n",
    ")\n",
    "\n",
    "# let's get a coarse report as well\n",
    "sorted_coarse_labels = sorted(\n",
    "    set(get_coarse_labels(labels)),\n",
    "    key=lambda name: (name[1:], name[0])\n",
    ")\n",
    "\n",
    "print(sorted_labels)\n",
    "print(sorted_coarse_labels)"
   ]
  },
  {
   "cell_type": "code",
   "execution_count": 28,
   "metadata": {
    "collapsed": true
   },
   "outputs": [],
   "source": [
    "if SINGLE_FOLD_FIT:\n",
    "    y_pred = crf.predict(X_test_feat)\n",
    "    sklearn_crfsuite.metrics.flat_f1_score(y_test, y_pred,\n",
    "                          average='weighted', labels=labels)"
   ]
  },
  {
   "cell_type": "code",
   "execution_count": 29,
   "metadata": {
    "collapsed": true
   },
   "outputs": [],
   "source": [
    "if SINGLE_FOLD_FIT:\n",
    "    y_train_pred = crf.predict(X_train_feat)\n",
    "    sklearn_crfsuite.metrics.flat_f1_score(y_train, y_train_pred,\n",
    "                          average='weighted', labels=labels)"
   ]
  },
  {
   "cell_type": "code",
   "execution_count": 30,
   "metadata": {},
   "outputs": [
    {
     "name": "stdout",
     "output_type": "stream",
     "text": [
      "              precision    recall  f1-score   support\n",
      "\n",
      "       B-ADE      0.969     0.930     0.950       273\n",
      "       I-ADE      0.995     0.979     0.987       191\n",
      "      B-Dose      0.996     0.995     0.996      1044\n",
      "      I-Dose      0.987     0.994     0.990      1136\n",
      "      B-Drug      0.998     0.998     0.998      3006\n",
      "      I-Drug      0.995     0.992     0.993       732\n",
      "  B-Duration      0.950     0.983     0.966       174\n",
      "  I-Duration      0.951     0.981     0.966       159\n",
      " B-Frequency      0.986     0.986     0.986       952\n",
      " I-Frequency      0.992     0.990     0.991      1347\n",
      "B-Indication      0.961     0.854     0.904       685\n",
      "I-Indication      0.958     0.897     0.927       846\n",
      "     B-Route      0.992     0.998     0.995       481\n",
      "     I-Route      0.950     1.000     0.974       132\n",
      "     B-SSLIF      0.973     0.983     0.978      6851\n",
      "     I-SSLIF      0.975     0.982     0.978      7809\n",
      "  B-Severity      0.983     0.993     0.988       568\n",
      "  I-Severity      0.979     1.000     0.989       137\n",
      "\n",
      " avg / total      0.979     0.980     0.980     26523\n",
      "\n",
      "             precision    recall  f1-score   support\n",
      "\n",
      "        ADE      0.980     0.950     0.965       464\n",
      "      SSLIF      0.977     0.986     0.981     14660\n",
      "   Severity      0.985     0.997     0.991       705\n",
      " Indication      0.961     0.880     0.919      1531\n",
      "       Dose      0.992     0.995     0.993      2180\n",
      "      Route      0.982     0.998     0.990       613\n",
      "  Frequency      0.992     0.991     0.991      2299\n",
      "       Drug      0.998     0.997     0.997      3738\n",
      "   Duration      0.951     0.982     0.966       333\n",
      "\n",
      "avg / total      0.981     0.982     0.982     26523\n",
      "\n"
     ]
    }
   ],
   "source": [
    "if SINGLE_FOLD_FIT:\n",
    "    print(sklearn_crfsuite.metrics.flat_classification_report(\n",
    "        y_test, y_pred, labels=sorted_labels, digits=3\n",
    "    ))\n",
    "    \n",
    "    #print(len(y_test))\n",
    "    #print(len(y_pred))\n",
    "    \n",
    "    print(sklearn_crfsuite.metrics.flat_classification_report(\n",
    "        [get_coarse_labels(x) for x in y_test], [get_coarse_labels(x) for x in y_pred], labels=sorted_coarse_labels, digits=3\n",
    "    ))"
   ]
  },
  {
   "cell_type": "code",
   "execution_count": 31,
   "metadata": {},
   "outputs": [
    {
     "name": "stdout",
     "output_type": "stream",
     "text": [
      "['ADE', 'Dose', 'Drug', 'Duration', 'Frequency', 'Indication', 'O', 'Route', 'SSLIF', 'Severity']\n",
      "Confusion matrix, without normalization\n"
     ]
    },
    {
     "data": {
      "text/plain": [
       "<matplotlib.figure.Figure at 0x2306ece2320>"
      ]
     },
     "metadata": {},
     "output_type": "display_data"
    },
    {
     "data": {
      "image/png": "[encoded data removed]",
      "text/plain": [
       "<matplotlib.figure.Figure at 0x23376a8f1d0>"
      ]
     },
     "metadata": {},
     "output_type": "display_data"
    }
   ],
   "source": [
    "if SINGLE_FOLD_FIT:\n",
    "    sorted_coarse_no_filter = list(sorted_coarse_labels)\n",
    "    sorted_coarse_no_filter.append('O')\n",
    "    sorted_coarse_no_filter = sorted(sorted_coarse_no_filter)\n",
    "    print(sorted_coarse_no_filter)\n",
    "\n",
    "    confusion_coarse = confusion_matrix(flatten([get_coarse_labels(x) for x in y_test]), \n",
    "                                        flatten([get_coarse_labels(x) for x in y_pred])\n",
    "                                        , labels = sorted_coarse_no_filter)\n",
    "    plt.figure()\n",
    "\n",
    "    plot_confusion_matrix(confusion_coarse, classes=sorted_coarse_no_filter,\n",
    "                          title='Coarse Label Confusion for : [{0}]'.format('TEST'))\n",
    "    plt.show()"
   ]
  },
  {
   "cell_type": "markdown",
   "metadata": {},
   "source": [
    "# Now let's try to evaluate spans just as the final BIOC evaluation will happen"
   ]
  },
  {
   "cell_type": "code",
   "execution_count": 32,
   "metadata": {},
   "outputs": [
    {
     "name": "stdout",
     "output_type": "stream",
     "text": [
      "Total documents for evaluation : 176\n",
      "Existing files removed : 176\n",
      "Total prediction documents written : 176\n",
      "The support, recall, precision, and f-score for Task NER-STRICT : Category Drug is 3025,0.9828099173553719,0.9886930495510475,0.9857427055702918\n",
      "The support, recall, precision, and f-score for Task NER-STRICT : Category Indication is 705,0.8113475177304964,0.9392446633825944,0.8706240487062403\n",
      "The support, recall, precision, and f-score for Task NER-STRICT : Category Frequency is 933,0.962486602357985,0.9432773109243697,0.9527851458885942\n",
      "The support, recall, precision, and f-score for Task NER-STRICT : Category Severity is 620,0.9096774193548387,0.9825783972125436,0.9447236180904524\n",
      "The support, recall, precision, and f-score for Task NER-STRICT : Category Dose is 1072,0.933768656716418,0.959731543624161,0.9465721040189126\n",
      "The support, recall, precision, and f-score for Task NER-STRICT : Category Duration is 174,0.8908045977011494,0.8611111111111112,0.8757062146892656\n",
      "The support, recall, precision, and f-score for Task NER-STRICT : Category Route is 485,0.9896907216494846,0.9917355371900827,0.9907120743034056\n",
      "The support, recall, precision, and f-score for Task NER-STRICT : Category ADE is 313,0.805111821086262,0.9618320610687023,0.8765217391304349\n",
      "The support, recall, precision, and f-score for Task NER-STRICT : Category SSLIF is 6918,0.9592367736339983,0.9579904720658293,0.9586132177681473\n",
      "The support, recall, precision, and f-score for Task NER-STRICT : Micro score is 14245,0.9498771498771499,0.9638837441230944,0.9568291906799137\n",
      "The support, recall, precision, and f-score for Task NER-APPROXIMATE : Category Drug is 3668,0.9880043620501636,0.9928767123287672,0.9904345449576388\n",
      "The support, recall, precision, and f-score for Task NER-APPROXIMATE : Category Indication is 1561,0.852017937219731,0.9575233981281498,0.9016949152542372\n",
      "The support, recall, precision, and f-score for Task NER-APPROXIMATE : Category Frequency is 2198,0.9849863512283894,0.9885844748858448,0.9867821330902461\n",
      "The support, recall, precision, and f-score for Task NER-APPROXIMATE : Category Severity is 763,0.9187418086500655,0.9845505617977528,0.9505084745762712\n",
      "The support, recall, precision, and f-score for Task NER-APPROXIMATE : Category Dose is 2179,0.981642955484167,0.9889042995839112,0.9852602487333025\n",
      "The support, recall, precision, and f-score for Task NER-APPROXIMATE : Category Duration is 345,0.9391304347826087,0.9418604651162791,0.9404934687953556\n",
      "The support, recall, precision, and f-score for Task NER-APPROXIMATE : Category Route is 517,0.9806576402321083,0.9806576402321083,0.9806576402321083\n",
      "The support, recall, precision, and f-score for Task NER-APPROXIMATE : Category ADE is 546,0.8021978021978022,0.9798657718120806,0.8821752265861028\n",
      "The support, recall, precision, and f-score for Task NER-APPROXIMATE : Category SSLIF is 14635,0.9749231294841134,0.9737919737919738,0.9743572233414143\n",
      "The support, recall, precision, and f-score for Task NER-APPROXIMATE : Micro score is 26412,0.9653187944873542,0.978207489257213,0.9717204055187133\n",
      "The support, recall, precision, and f-score for Task RELATION : Category severity_type is 636,0.0,0.0,0.0\n",
      "The support, recall, precision, and f-score for Task RELATION : Category manner/route is 562,0.0,0.0,0.0\n",
      "The support, recall, precision, and f-score for Task RELATION : Category reason is 1028,0.0,0.0,0.0\n",
      "The support, recall, precision, and f-score for Task RELATION : Category do is 1154,0.0,0.0,0.0\n",
      "The support, recall, precision, and f-score for Task RELATION : Category du is 215,0.0,0.0,0.0\n",
      "The support, recall, precision, and f-score for Task RELATION : Category fr is 1011,0.0,0.0,0.0\n",
      "The support, recall, precision, and f-score for Task RELATION : Category adverse is 449,0.0,0.0,0.0\n",
      "The support, recall, precision, and f-score for Task RELATION : Micro score is 5055,0.0,0.0,0.0\n"
     ]
    }
   ],
   "source": [
    "if SINGLE_FOLD_FIT:\n",
    "    evaluate_via_bioc(test_docs, crf, extractor, PREDICTION_DIR, MADE_BASE_DIR)"
   ]
  },
  {
   "cell_type": "markdown",
   "metadata": {},
   "source": [
    "# Error Analysis\n",
    "Let's take a look at some cases of opportunities for improvement"
   ]
  },
  {
   "cell_type": "code",
   "execution_count": 33,
   "metadata": {},
   "outputs": [
    {
     "name": "stdout",
     "output_type": "stream",
     "text": [
      "Total TP examples : 7833\n",
      "Total FP examples : 243\n",
      "Total FN examples : 227\n"
     ]
    }
   ],
   "source": [
    "def create_sentence_string(tokens, tags):\n",
    "    tagged_string = ''\n",
    "    for i in range(len(tokens)):\n",
    "        token = tokens[i]\n",
    "        tag = tags[i]\n",
    "        tagged_string += token\n",
    "        if tag != 'O':\n",
    "            tagged_string += '/{0}'.format(tag)\n",
    "            \n",
    "        tagged_string += ' '\n",
    "        \n",
    "    return tagged_string.strip()\n",
    "\n",
    "if SINGLE_FOLD_FIT:\n",
    "\n",
    "    # set up a map to collect errors\n",
    "    test_fp_map = {}\n",
    "    test_fn_map = {}\n",
    "    test_tp_map = {}\n",
    "    for label in labels:\n",
    "        label = label.replace('B-', '').replace('I-', '')\n",
    "        test_fp_map[label] = set()\n",
    "        test_fn_map[label] = set()\n",
    "        test_tp_map[label] = set()\n",
    "\n",
    "    # then gather the errors by label\n",
    "    for i in range(len(y_test)):\n",
    "        sentence_tokens = X_test[i]\n",
    "        sentence_gold = y_test[i]\n",
    "        sentence_pred = y_pred[i]\n",
    "        sentence_gold = [x.replace('B-', '').replace('I-', '') for x in sentence_gold]\n",
    "        sentence_pred = [x.replace('B-', '').replace('I-', '') for x in sentence_pred]\n",
    "        sentence_gold_str = 'GOLD : ' + create_sentence_string(sentence_tokens, sentence_gold)\n",
    "        sentence_pred_str = 'PRED : ' + create_sentence_string(sentence_tokens, sentence_pred)\n",
    "        #print(sentence_gold_str)\n",
    "        #print(sentence_pred_str)\n",
    "\n",
    "        pair = tuple((sentence_gold_str, sentence_pred_str))\n",
    "\n",
    "        for tag_idx in range(len(sentence_gold)):\n",
    "            pred_tag = sentence_pred[tag_idx]\n",
    "            gold_tag = sentence_gold[tag_idx]\n",
    "\n",
    "            if pred_tag == gold_tag:\n",
    "                if pred_tag != 'O':\n",
    "                    test_tp_map[pred_tag].add(pair)\n",
    "            else:\n",
    "                if pred_tag != 'O':\n",
    "                    test_fp_map[pred_tag].add(pair)\n",
    "                if gold_tag != 'O':\n",
    "                    test_fn_map[gold_tag].add(pair)\n",
    "\n",
    "        #break\n",
    "\n",
    "    print('Total TP examples : {}'.format(np.sum([len(test_tp_map[tag]) for tag in test_tp_map.keys()])))\n",
    "    print('Total FP examples : {}'.format(np.sum([len(test_fp_map[tag]) for tag in test_fp_map.keys()])))\n",
    "    print('Total FN examples : {}'.format(np.sum([len(test_fn_map[tag]) for tag in test_fn_map.keys()])))"
   ]
  },
  {
   "cell_type": "code",
   "execution_count": 34,
   "metadata": {
    "collapsed": true
   },
   "outputs": [],
   "source": [
    "def print_error_comparisons(pairs_set, error_type):\n",
    "    print('**************')\n",
    "    print(error_type)\n",
    "    for pair in pairs_set:\n",
    "        print(pair[0])\n",
    "        print(pair[1])\n",
    "        print('')\n",
    "    print('**************')"
   ]
  },
  {
   "cell_type": "code",
   "execution_count": 35,
   "metadata": {
    "collapsed": true
   },
   "outputs": [],
   "source": [
    "PRINT_ERROR_COMPARISONS = False"
   ]
  },
  {
   "cell_type": "code",
   "execution_count": 36,
   "metadata": {
    "collapsed": true
   },
   "outputs": [],
   "source": [
    "# Let's enumerate opportunities\n",
    "if PRINT_ERROR_COMPARISONS:\n",
    "    print_error_comparisons(test_fn_map['ADE'], 'False Negatives')"
   ]
  },
  {
   "cell_type": "code",
   "execution_count": 37,
   "metadata": {
    "collapsed": true
   },
   "outputs": [],
   "source": [
    "# Let's enumerate opportunities\n",
    "if PRINT_ERROR_COMPARISONS:\n",
    "    print_error_comparisons(test_fp_map['ADE'], 'False Positives')"
   ]
  },
  {
   "cell_type": "code",
   "execution_count": 38,
   "metadata": {
    "collapsed": true
   },
   "outputs": [],
   "source": [
    "# Let's enumerate opportunities\n",
    "if PRINT_ERROR_COMPARISONS:\n",
    "    print_error_comparisons(test_fn_map['Indication'], 'False Negatives')"
   ]
  },
  {
   "cell_type": "code",
   "execution_count": 39,
   "metadata": {
    "collapsed": true
   },
   "outputs": [],
   "source": [
    "# Let's enumerate opportunities\n",
    "if PRINT_ERROR_COMPARISONS:\n",
    "    print_error_comparisons(test_fp_map['Indication'], 'False Positives')"
   ]
  },
  {
   "cell_type": "code",
   "execution_count": 40,
   "metadata": {
    "collapsed": true
   },
   "outputs": [],
   "source": [
    "# Let's enumerate opportunities\n",
    "if PRINT_ERROR_COMPARISONS:\n",
    "    print_error_comparisons(test_fn_map['SSLIF'], 'False Negatives')"
   ]
  },
  {
   "cell_type": "code",
   "execution_count": 41,
   "metadata": {
    "collapsed": true
   },
   "outputs": [],
   "source": [
    "# Let's enumerate opportunities\n",
    "if PRINT_ERROR_COMPARISONS:\n",
    "    print_error_comparisons(test_fp_map['SSLIF'], 'False Positives')"
   ]
  },
  {
   "cell_type": "markdown",
   "metadata": {},
   "source": [
    "# Examining top features"
   ]
  },
  {
   "cell_type": "code",
   "execution_count": 42,
   "metadata": {},
   "outputs": [
    {
     "name": "stdout",
     "output_type": "stream",
     "text": [
      "Top positive:\n",
      "3.714267 O        -1wlow:bos\n",
      "3.152631 B-Severity 0c[-3:]:/10\n",
      "3.018905 B-Drug   0_P_500_CL:85\n",
      "2.460682 B-Dose   0c[-2:]:mg\n",
      "2.417660 B-Frequency 0c[:2]:q.\n",
      "2.375404 B-Drug   0c[-2:]:ol\n",
      "2.368530 B-Frequency 0word[:3]:p.r\n",
      "2.329637 O        0w.all_punct\n",
      "2.309508 B-Drug   0c[-2:]:in\n",
      "2.233825 O        0_P_10000_CL:3852\n",
      "2.218354 B-SSLIF  -1wlow:bos\n",
      "2.162071 O        0_P_5000_CL:2257\n",
      "2.120834 B-SSLIF  -1word[:3]:no_\n",
      "2.118690 B-Severity 0c[:2]:mi\n",
      "2.118336 B-Route  0c[:2]:in\n",
      "2.103662 B-Drug   0word[:3]:ant\n",
      "2.085801 B-Frequency -1wlow:bos\n",
      "2.061353 O        1wlow:eos\n",
      "2.054641 B-Drug   0_P_500_CL:93\n",
      "2.047671 B-Drug   0c[-2:]:ne\n",
      "2.030626 B-Severity 0c[-2:]:10\n",
      "2.020547 I-Dose   0c[-2:]:mg\n",
      "2.008021 B-Drug   0_P_500_CL:402\n",
      "1.999433 B-Drug   0_P_10000_CL:8012\n",
      "1.961166 O        0pos:LS\n",
      "1.941401 B-Severity 0word[:3]:sli\n",
      "1.935932 O        0_P_5000_CL:986\n",
      "1.853831 B-Drug   0word[:3]:che\n",
      "1.823597 B-Drug   0_P_500_CL:222\n",
      "1.820539 O        0wlow:worsening\n",
      "1.807370 B-Drug   0_P_10000_CL:9355\n",
      "1.780732 B-SSLIF  0word[:3]:obe\n",
      "1.740687 B-Frequency 0_P_5000_CL:695\n",
      "1.737794 B-SSLIF  0_P_10000_CL:2321\n",
      "1.735718 B-Drug   0_P_500_CL:437\n",
      "1.720982 B-Drug   0_P_10000_CL:2023\n",
      "1.712212 B-Drug   0word[:3]:rit\n",
      "1.687250 B-Drug   0c[-3:]:ole\n",
      "1.684367 B-SSLIF  0c[-3:]:aly\n",
      "1.683968 B-SSLIF  0_P_10000_CL:2888\n",
      "1.681191 B-SSLIF  0word[:3]:non\n",
      "1.667683 O        0wlow:medications\n",
      "1.658036 O        0wlow:dialysis\n",
      "1.636754 B-Drug   0_P_500_CL:379\n",
      "1.634681 B-Drug   0_P_500_CL:468\n",
      "1.625513 B-Drug   0c[-2:]:de\n",
      "1.623553 B-Severity 0_P_10000_CL:4024\n",
      "1.615456 B-Route  0_P_5000_CL:1338\n",
      "1.608872 B-Severity 0c[-3:]:ere\n",
      "1.607983 B-SSLIF  0word[:3]:cru\n",
      "\n",
      "Top negative:\n",
      "-1.346013 O        0word[:3]:dro\n",
      "-1.355208 B-SSLIF  -1_P_500_CL:290\n",
      "-1.361157 O        0word[:3]:swe\n",
      "-1.363671 O        0word[:3]:fat\n",
      "-1.364180 B-Drug   0_P_10000_CL:9450\n",
      "-1.364621 O        0c[-3:]:mor\n",
      "-1.370301 O        0_P_5000_CL:1377\n",
      "-1.375514 B-Severity 0pos:VBN\n",
      "-1.376621 O        0word[:3]:fev\n",
      "-1.378962 B-Route  0w.all_punct\n",
      "-1.397325 O        0_P_10000_CL:494\n",
      "-1.401789 B-SSLIF  -1c[-3:]:ary\n",
      "-1.430273 B-Drug   0c[-2:]:is\n",
      "-1.449270 O        0wlow:wound\n",
      "-1.463813 B-SSLIF  0w.isdigit\n",
      "-1.477616 B-SSLIF  0pos:DT\n",
      "-1.516396 O        0c[:2]:q.\n",
      "-1.519221 O        0wlow:ill-appearing\n",
      "-1.536876 O        0wlow:lesions\n",
      "-1.546240 O        0c[:2]:hy\n",
      "-1.571714 B-Drug   0w.all_punct\n",
      "-1.590612 O        0_P_5000_CL:2349\n",
      "-1.620350 O        0_P_10000_CL:2986\n",
      "-1.635633 O        0_P_5000_CL:2066\n",
      "-1.639409 B-SSLIF  0pos:CD\n",
      "-1.648003 B-SSLIF  0_P_10000_CL:7847\n",
      "-1.660309 I-Indication 1wlow:eos\n",
      "-1.691644 B-SSLIF  0_P_500_CL:71\n",
      "-1.709263 O        0c[-3:]:/10\n",
      "-1.732160 O        0word[:3]:fra\n",
      "-1.732831 O        0_P_500_CL:437\n",
      "-1.758277 O        0_P_5000_CL:984\n",
      "-1.759798 O        0_P_500_CL:222\n",
      "-1.775056 O        0_P_10000_CL:1032\n",
      "-1.775374 O        0c[-2:]:ma\n",
      "-1.784164 B-SSLIF  0_P_10000_CL:5589\n",
      "-1.826873 B-Drug   0word[:3]:med\n",
      "-1.834713 O        0_P_10000_CL:6407\n",
      "-1.863427 O        0word[:3]:hyp\n",
      "-1.887357 O        0c[-2:]:ia\n",
      "-1.908898 O        0_P_5000_CL:4126\n",
      "-1.939699 B-SSLIF  0w.all_punct\n",
      "-1.989134 O        0_P_5000_CL:4470\n",
      "-1.990796 O        0word[:3]:pai\n",
      "-2.021976 B-Drug   0w.isdigit\n",
      "-2.136431 O        0word[:3]:mas\n",
      "-2.314353 B-Frequency 0w.all_punct\n",
      "-2.347258 B-Dose   0w.all_punct\n",
      "-2.358628 B-SSLIF  0_P_10000_CL:1970\n",
      "-3.189790 O        0c[-3:]:tis\n"
     ]
    }
   ],
   "source": [
    "def print_state_features(state_features):\n",
    "    for (attr, label), weight in state_features:\n",
    "        print(\"%0.6f %-8s %s\" % (weight, label, attr))\n",
    "\n",
    "TOP_N_FEATURES = 50 \n",
    "\n",
    "if SINGLE_FOLD_FIT:\n",
    "        \n",
    "    print(\"Top positive:\")\n",
    "    print_state_features(Counter(crf.state_features_).most_common(TOP_N_FEATURES))\n",
    "\n",
    "    print(\"\\nTop negative:\")\n",
    "    print_state_features(Counter(crf.state_features_).most_common()[-1 * TOP_N_FEATURES:])"
   ]
  },
  {
   "cell_type": "markdown",
   "metadata": {},
   "source": [
    "# Optionally run a full parameter search"
   ]
  },
  {
   "cell_type": "code",
   "execution_count": 43,
   "metadata": {},
   "outputs": [
    {
     "name": "stdout",
     "output_type": "stream",
     "text": [
      "Wall time: 0 ns\n"
     ]
    }
   ],
   "source": [
    "%%time\n",
    "\n",
    "PERFORM_PARAM_SEARCH = False\n",
    "\n",
    "MULTICORE_PARAM_FOLDS = 5\n",
    "# each fold can take 2 to 2.5 GB, so with the parent process we can only fit 4 folds into 16 GB\n",
    "MULTICORE_PARAM_JOBS = 1\n",
    "MULTICORE_PARAM_ITERATIONS = 3\n",
    "\n",
    "rs = None\n",
    "\n",
    "if PERFORM_PARAM_SEARCH:\n",
    "    print('Starting Param Search...')\n",
    "    \n",
    "    params_space = {\n",
    "        #'c1' : expon(scale = 0.5), # search range in sklearn_crfsuite example\n",
    "        #'c2' : expon(scale = 0.05) \n",
    "        'c1' : [0.1, 0.2, 0.3, 0.4, 0.5, 0.75, 1.0, 5.0, 10.0],\n",
    "        'c2' : [0.1, 0.2, 0.3, 0.4, 0.5, 0.75, 1.0, 5.0, 10.0]\n",
    "    }\n",
    "    \n",
    "    f1_scorer = make_scorer(metrics.flat_f1_score, average = 'weighted', labels = labels)\n",
    "    \n",
    "    rs = RandomizedSearchCV(crf, params_space, \n",
    "                                   cv = MULTICORE_PARAM_FOLDS,\n",
    "                                   verbose = 1,\n",
    "                                   n_jobs = MULTICORE_PARAM_JOBS,\n",
    "                                   n_iter = MULTICORE_PARAM_ITERATIONS,\n",
    "                                   random_state = int(time.time() % 100),\n",
    "                                   scoring = f1_scorer)\n",
    "\n",
    "    rs.fit(X_train_feat, y_train)\n",
    "\n",
    "    print('Best params : {}'.format(rs.best_params_))\n",
    "    print('Best CV score : {}'.format(rs.best_score_))\n",
    "    print('model size : {:0.2f}M'.format(rs.best_estimator_.size_ / 1000000))\n",
    "\n",
    "    best_model = rs.best_estimator_\n",
    "\n",
    "    validation_start_time = time.time()\n",
    "\n",
    "    print('Now performing additional validation')\n",
    "\n",
    "    #f1 = _score(estimator, X_test, y_test, scorer, is_multimetric=False)\n",
    "    test_pred_unflattened = best_model.predict(X_test_feat)\n",
    "\n",
    "    print('**********')\n",
    "    #print('AUC : {0}'.format(auc))\n",
    "    #print('TEST F1 : {0}'.format(f1))\n",
    "    #print('TEST Precision : {0}'.format(precision))\n",
    "    #print('TEST Recall : {0}'.format(recall))\n",
    "\n",
    "    print('Report for CV (TRAIN):')\n",
    "    # use these flattened versions\n",
    "    print(sklearn_crfsuite.metrics.flat_classification_report(\n",
    "                    [get_coarse_labels(x) for x in y_train], \n",
    "                     [get_coarse_labels(x) for x in best_model.predict(X_train_feat)],\n",
    "                    labels = sorted_coarse_labels, digits = 3))\n",
    "\n",
    "    print('Report for CV (TEST):')\n",
    "    # use these flattened versions\n",
    "    print(sklearn_crfsuite.metrics.flat_classification_report(\n",
    "                    [get_coarse_labels(x) for x in y_test], \n",
    "                     [get_coarse_labels(x) for x in test_pred_unflattened],\n",
    "                    labels = sorted_coarse_labels, digits = 3))\n",
    "\n",
    "    print('Total time for validation : {} seconds'.format(time.time() - validation_start_time))"
   ]
  },
  {
   "cell_type": "code",
   "execution_count": 44,
   "metadata": {
    "collapsed": true
   },
   "outputs": [],
   "source": [
    "# Plotting of params from RandomSearch...\n",
    "if rs is not None:\n",
    "    print('Preparing plot of RandomSearch results...')\n",
    "    _x = [s.parameters['c1'] for s in rs.grid_scores_]\n",
    "    _y = [s.parameters['c2'] for s in rs.grid_scores_]\n",
    "    _c = [s.mean_validation_score for s in rs.grid_scores_]\n",
    "\n",
    "    fig = plt.figure()\n",
    "    fig.set_size_inches(12, 12)\n",
    "    ax = plt.gca()\n",
    "    ax.set_yscale('log')\n",
    "    ax.set_xscale('log')\n",
    "    ax.set_xlabel('C1')\n",
    "    ax.set_ylabel('C2')\n",
    "    ax.set_title(\"Randomized Hyperparameter Search CV Results (F1) (min={:0.3}, max={:0.3})\".format(\n",
    "        min(_c), max(_c)\n",
    "    ))\n",
    "\n",
    "    ax.scatter(_x, _y, c=_c, s=60, alpha=0.9, edgecolors=[0,0,0])\n",
    "\n",
    "    print(\"Dark blue => {:0.4} F1, dark red => {:0.4} F1\".format(min(_c), max(_c)))"
   ]
  },
  {
   "cell_type": "markdown",
   "metadata": {},
   "source": [
    "# Finally, if enabled, we will write out the appropriate predictions based on the features and the run for final submission for the challenge"
   ]
  },
  {
   "cell_type": "code",
   "execution_count": 45,
   "metadata": {},
   "outputs": [
    {
     "name": "stdout",
     "output_type": "stream",
     "text": [
      "Preparing to write HOLD OUIT predictions...\n",
      "Prepping to write predictions to : final_predictions/Task1-Standard-Run1\n",
      "Reading unlabeled source files from : C:\\temp_MADE/made1.0_task1_3_test\n",
      "Total annotated documents loaded : 213\n",
      "Total Final Holdout Docs : 213\n",
      "Total documents for evaluation : 213\n",
      "Existing files removed : 213\n",
      "Total prediction documents written : 213\n",
      "DONE writing out HOLDOUT predictions\n"
     ]
    }
   ],
   "source": [
    "if WRITE_TEST_PREDICTIONS:\n",
    "    print('Preparing to write HOLD OUIT predictions...')\n",
    "    TEST_PRED_BASE_DIR = 'final_predictions'\n",
    "    TEST_SOURCE_SUBDIR = 'made1.0_task1_3_test'\n",
    "    TEST_SOURCE_DIR = r'{0}/{1}'.format(MADE_ALL_SETS_BASE_DIR, TEST_SOURCE_SUBDIR)\n",
    "    test_pred_run_subdir = r'{0}/Task1-{1}-{2}'.format(TEST_PRED_BASE_DIR, FEATURE_SET, RUN_NAME)\n",
    "    print('Prepping to write predictions to : {}'.format(test_pred_run_subdir))\n",
    "    \n",
    "    print('Reading unlabeled source files from : {}'.format(TEST_SOURCE_DIR))\n",
    "    holdout_test_docs = read_made_data(TEST_SOURCE_DIR, made_tokenizer)\n",
    "\n",
    "    print('Total Final Holdout Docs : {}'.format(len(holdout_test_docs)))\n",
    "    \n",
    "    # pass None as the MADE base dir since there are no gold labels for comparison\n",
    "    evaluate_via_bioc(holdout_test_docs, crf, extractor, test_pred_run_subdir, None)\n",
    "    \n",
    "    print('DONE writing out HOLDOUT predictions')"
   ]
  },
  {
   "cell_type": "markdown",
   "metadata": {},
   "source": [
    "# NOTE : The cell before is for the ACTUAL finally released test set (released after the challenge and workshop were both completed)"
   ]
  },
  {
   "cell_type": "code",
   "execution_count": 46,
   "metadata": {},
   "outputs": [
    {
     "name": "stdout",
     "output_type": "stream",
     "text": [
      "Preparing to write RELEASED TEST SET predictions...\n",
      "Prepping to write predictions to : test_set_predictions/Task1-Standard-Run1\n",
      "Reading TEST SET source files from : C:\\temp_MADE/made_test_data\n",
      "Total annotated documents loaded : 213\n",
      "Total Final TEST SET Docs : 213\n",
      "Total documents for evaluation : 213\n",
      "Existing files removed : 0\n",
      "Total prediction documents written : 213\n",
      "DONE writing out TEST SET predictions\n"
     ]
    }
   ],
   "source": [
    "if WRITE_TEST_PREDICTIONS:\n",
    "    print('Preparing to write RELEASED TEST SET predictions...')\n",
    "    TEST_SET_PRED_BASE_DIR = 'test_set_predictions'\n",
    "    TEST_SET_SOURCE_SUBDIR = 'made_test_data'\n",
    "    TEST_SET_SOURCE_DIR = r'{0}/{1}'.format(MADE_ALL_SETS_BASE_DIR, TEST_SET_SOURCE_SUBDIR)\n",
    "    test_set_pred_run_subdir = r'{0}/Task1-{1}-{2}'.format(TEST_SET_PRED_BASE_DIR, FEATURE_SET, RUN_NAME)\n",
    "    print('Prepping to write predictions to : {}'.format(test_set_pred_run_subdir))\n",
    "    \n",
    "    print('Reading TEST SET source files from : {}'.format(TEST_SET_SOURCE_DIR))\n",
    "    test_set_docs = read_made_data(TEST_SET_SOURCE_DIR, made_tokenizer)\n",
    "\n",
    "    print('Total Final TEST SET Docs : {}'.format(len(test_set_docs)))\n",
    "    \n",
    "    # pass None as the MADE base dir TO ASSUME that there are no gold labels for comparison\n",
    "    evaluate_via_bioc(test_set_docs, crf, extractor, test_set_pred_run_subdir, None)\n",
    "    \n",
    "    print('DONE writing out TEST SET predictions')"
   ]
  },
  {
   "cell_type": "code",
   "execution_count": 47,
   "metadata": {},
   "outputs": [
    {
     "name": "stdout",
     "output_type": "stream",
     "text": [
      "Preparing to write ALL GOLD predictions...\n",
      "Total Gold Prediction Docs : 876\n",
      "Total documents for evaluation : 876\n",
      "Existing files removed : 876\n",
      "Total prediction documents written : 876\n",
      "DONE writing out ALL GOLD predictions\n"
     ]
    }
   ],
   "source": [
    "PREDICT_ON_ALL_GOLD_DATA = True\n",
    "if PREDICT_ON_ALL_GOLD_DATA:\n",
    "    print('Preparing to write ALL GOLD predictions...')\n",
    "    GOLD_PRED_BASE_DIR = 'all_gold_predictions'\n",
    "\n",
    "    print('Total Gold Prediction Docs : {}'.format(len(train_docs + test_docs)))\n",
    "    \n",
    "    # pass None as the MADE base dir since there are no gold labels for comparison\n",
    "    evaluate_via_bioc(train_docs + test_docs, crf, extractor, GOLD_PRED_BASE_DIR, None)\n",
    "    \n",
    "    print('DONE writing out ALL GOLD predictions')"
   ]
  },
  {
   "cell_type": "markdown",
   "metadata": {},
   "source": [
    "# Final NER predictions for the released labeled data"
   ]
  },
  {
   "cell_type": "code",
   "execution_count": 48,
   "metadata": {},
   "outputs": [
    {
     "name": "stdout",
     "output_type": "stream",
     "text": [
      "Predicting on final HOLDOUT data...\n",
      "Total annotated documents loaded : 213\n",
      "Total Final Labeled Holdout Docs : 213\n",
      "Total documents for evaluation : 213\n",
      "Existing files removed : 213\n",
      "Total prediction documents written : 213\n",
      "The support, recall, precision, and f-score for Task NER-STRICT : Category Drug is 2395,0.8367432150313152,0.9010791366906474,0.8677202857761419\n",
      "The support, recall, precision, and f-score for Task NER-STRICT : Category Indication is 636,0.3380503144654088,0.6323529411764706,0.44057377049180324\n",
      "The support, recall, precision, and f-score for Task NER-STRICT : Category Frequency is 659,0.7921092564491654,0.8515497553017944,0.8207547169811321\n",
      "The support, recall, precision, and f-score for Task NER-STRICT : Category Severity is 534,0.7734082397003745,0.8676470588235294,0.8178217821782179\n",
      "The support, recall, precision, and f-score for Task NER-STRICT : Category Dose is 801,0.8352059925093633,0.892,0.8626692456479691\n",
      "The support, recall, precision, and f-score for Task NER-STRICT : Category Duration is 133,0.6917293233082706,0.7540983606557377,0.7215686274509804\n",
      "The support, recall, precision, and f-score for Task NER-STRICT : Category Route is 389,0.8740359897172236,0.9444444444444444,0.9078771695594124\n",
      "The support, recall, precision, and f-score for Task NER-STRICT : Category ADE is 431,0.3248259860788863,0.7567567567567568,0.4545454545454546\n",
      "The support, recall, precision, and f-score for Task NER-STRICT : Category SSLIF is 5329,0.8022142991180334,0.7915200888724311,0.7968313140726934\n",
      "The support, recall, precision, and f-score for Task NER-STRICT : Micro score is 11307,0.766781639692226,0.8280011460223474,0.7962163651391313\n",
      "The support, recall, precision, and f-score for Task NER-APPROXIMATE : Category Drug is 2836,0.8691819464033851,0.9322995461422088,0.8996350364963503\n",
      "The support, recall, precision, and f-score for Task NER-APPROXIMATE : Category Indication is 1437,0.29575504523312457,0.6609642301710731,0.40865384615384615\n",
      "The support, recall, precision, and f-score for Task NER-APPROXIMATE : Category Frequency is 1890,0.8238095238095238,0.93122009569378,0.8742279618192026\n",
      "The support, recall, precision, and f-score for Task NER-APPROXIMATE : Category Severity is 811,0.812577065351418,0.885752688172043,0.847588424437299\n",
      "The support, recall, precision, and f-score for Task NER-APPROXIMATE : Category Dose is 1731,0.9225880993645291,0.9585834333733494,0.9402413894612894\n",
      "The support, recall, precision, and f-score for Task NER-APPROXIMATE : Category Duration is 277,0.7256317689530686,0.8626609442060086,0.788235294117647\n",
      "The support, recall, precision, and f-score for Task NER-APPROXIMATE : Category Route is 410,0.8585365853658536,0.9591280653950953,0.9060489060489061\n",
      "The support, recall, precision, and f-score for Task NER-APPROXIMATE : Category ADE is 684,0.32894736842105265,0.7978723404255319,0.46583850931677023\n",
      "The support, recall, precision, and f-score for Task NER-APPROXIMATE : Category SSLIF is 10001,0.8048195180481952,0.8028927680798005,0.8038549885149305\n",
      "The support, recall, precision, and f-score for Task NER-APPROXIMATE : Micro score is 20077,0.7735219405289635,0.8497483037863865,0.8098453836727245\n",
      "The support, recall, precision, and f-score for Task RELATION : Category severity_type is 0,0.0,0.0,0.0\n",
      "The support, recall, precision, and f-score for Task RELATION : Category manner/route is 0,0.0,0.0,0.0\n",
      "The support, recall, precision, and f-score for Task RELATION : Category reason is 0,0.0,0.0,0.0\n",
      "The support, recall, precision, and f-score for Task RELATION : Category do is 0,0.0,0.0,0.0\n",
      "The support, recall, precision, and f-score for Task RELATION : Category du is 0,0.0,0.0,0.0\n",
      "The support, recall, precision, and f-score for Task RELATION : Category fr is 0,0.0,0.0,0.0\n",
      "The support, recall, precision, and f-score for Task RELATION : Category adverse is 0,0.0,0.0,0.0\n",
      "The support, recall, precision, and f-score for Task RELATION : Micro score is 0,0.0,0.0,0.0\n",
      "DONE writing out HOLDOUT labeled predictions\n"
     ]
    }
   ],
   "source": [
    "PREDICT_ON_FINAL_HOLDOUT_DATA = True\n",
    "\n",
    "relations_system_base_dir = 'relations_system'\n",
    "# make this a level underneath so that we can all it easily\n",
    "ner_final_predictions_subdir = 'ner_final_predictions_dir'\n",
    "ner_final_predictions_dir = r'{0}/{1}'.format(relations_system_base_dir, ner_final_predictions_subdir)\n",
    "ner_final_predictions_annotations_dir = r'{0}/annotations'.format(ner_final_predictions_dir)\n",
    "\n",
    "if not os.path.exists(ner_final_predictions_dir):\n",
    "    os.makedirs(ner_final_predictions_dir)\n",
    "    \n",
    "if not os.path.exists(ner_final_predictions_annotations_dir):\n",
    "    os.makedirs(ner_final_predictions_annotations_dir)\n",
    "\n",
    "if PREDICT_ON_FINAL_HOLDOUT_DATA:\n",
    "    print('Predicting on final HOLDOUT data...')\n",
    "    MADE_FINAL_HOLDOUT_DIR = r'{0}\\made1.0_task1_3_test'.format(MADE_ALL_SETS_BASE_DIR)\n",
    "    \n",
    "    holdout_labeled_test_docs = read_made_data(MADE_FINAL_HOLDOUT_DIR, made_tokenizer)\n",
    "\n",
    "    print('Total Final Labeled Holdout Docs : {}'.format(len(holdout_labeled_test_docs)))\n",
    "    \n",
    "    # pass None as the MADE base dir since there are no gold labels for comparison\n",
    "    evaluate_via_bioc(holdout_labeled_test_docs, crf, extractor, ner_final_predictions_annotations_dir, \n",
    "                      made_base_dir = MADE_FINAL_HOLDOUT_DIR )\n",
    "    \n",
    "    print('DONE writing out HOLDOUT labeled predictions')"
   ]
  },
  {
   "cell_type": "markdown",
   "metadata": {},
   "source": [
    "# Finally we write out BIOC files for Task 2 and also Task 3. \n",
    "The resulting directories can be checked to ensure that they match our final submission"
   ]
  },
  {
   "cell_type": "code",
   "execution_count": 49,
   "metadata": {
    "collapsed": true
   },
   "outputs": [],
   "source": [
    "RUN_RELATION_SYSTEM = False\n",
    "\n",
    "python_cmd = r'C:\\git\\MADE_challenge\\notebooks\\relations_system\\relations\\Scripts\\python'\n",
    "\n",
    "if RUN_RELATION_SYSTEM:\n",
    "    # first let's run everything for Task 2...\n",
    "    print('Running relation system for Task 2...')\n",
    "    \n",
    "    task2_dir = 'task2_relation_predictions'\n",
    "    task2_full_path = '{0}/{1}'.format(relations_system_base_dir, task2_dir)\n",
    "    \n",
    "    if not os.path.exists(task2_full_path):\n",
    "        os.makedirs(task2_full_path)\n",
    "    \n",
    "    # invoke the relation script (via the virtual environment)\n",
    "    task_2cmd = r'relations.py --datadir {0} --outdir {1}'.format(MADE_FINAL_HOLDOUT_DIR, task2_dir)\n",
    "    full_task_2_cmd= r'{0} {1}'.format(python_cmd, task_2cmd)\n",
    "    \n",
    "    print(full_task_2_cmd)\n",
    "    \n",
    "    print('Calling script to predict for Task 2...')\n",
    "    ret = subprocess.call(full_task_2_cmd, shell = True, cwd = './{0}'.format(relations_system_base_dir))\n",
    "    \n",
    "    if ret != 0:\n",
    "        print('Task 2 command failed.')\n",
    "        raise Exception('Task 2 command failed')\n",
    "    \n",
    "    # no F scores for the Task 2 data as of 8:22pm on March 7\n",
    "    #get_f_scores(r'{0}/annotations'.format(MADE_FINAL_HOLDOUT_DIR),\n",
    "    #             relation_prediction_full_path,\n",
    "    #             r'{0}/corpus'.format(MADE_FINAL_HOLDOUT_DIR))\n",
    "    \n",
    "    print('Task 2 relations BIOC files written to : {}'.format(task2_full_path))"
   ]
  },
  {
   "cell_type": "code",
   "execution_count": 50,
   "metadata": {
    "collapsed": true
   },
   "outputs": [],
   "source": [
    "if RUN_RELATION_SYSTEM:\n",
    "    print('Prepping to run predictions for Task 3 (full system from NER predictions above and this)')\n",
    "    \n",
    "    # and then let's use the NER predictions writen above to demonstrate the full system\n",
    "    task3_dir = 'task3_full_system_predictions'\n",
    "    task3_full_path = '{0}/{1}'.format(relations_system_base_dir, task3_dir)\n",
    "    \n",
    "    if not os.path.exists(task3_full_path):\n",
    "        os.makedirs(task3_full_path)\n",
    "    \n",
    "    # here we want the directory that is the PARENT of /corpus (already in place) \n",
    "    # and /annotations (written in the cell above)\n",
    "    task_3cmd = r'relations.py --datadir {0} --outdir {1}'.format(ner_final_predictions_subdir, \n",
    "                                                                  task3_dir)\n",
    "    full_task_3_cmd= r'{0} {1}'.format(python_cmd, task_3cmd)\n",
    "    \n",
    "    print(full_task_3_cmd)\n",
    "    \n",
    "    print('Calling script to predict for Task 3...')\n",
    "    ret = subprocess.call(full_task_3_cmd, shell = True, cwd = './{0}'.format(relations_system_base_dir))\n",
    "    \n",
    "    if ret != 0:\n",
    "        print('Task 3 command failed.')\n",
    "        raise Exception('Task 3 command failed')\n",
    "    \n",
    "    # no F scores for the Task 2 data as of 8:22pm on March 7\n",
    "    #get_f_scores(r'{0}/annotations'.format(MADE_FINAL_HOLDOUT_DIR),\n",
    "    #             relation_prediction_full_path,\n",
    "    #             r'{0}/corpus'.format(MADE_FINAL_HOLDOUT_DIR))\n",
    "    \n",
    "    print('Task 3 relations BIOC files written to : {}'.format(task3_full_path))\n",
    "    \n",
    "    print('DONE with all Task 2 and Task 3 files.  These should match our submissions')"
   ]
  },
  {
   "cell_type": "code",
   "execution_count": null,
   "metadata": {
    "collapsed": true
   },
   "outputs": [],
   "source": []
  }
 ],
 "metadata": {
  "kernelspec": {
   "display_name": "Python 3",
   "language": "python",
   "name": "python3"
  },
  "language_info": {
   "codemirror_mode": {
    "name": "ipython",
    "version": 3
   },
   "file_extension": ".py",
   "mimetype": "text/x-python",
   "name": "python",
   "nbconvert_exporter": "python",
   "pygments_lexer": "ipython3",
   "version": "3.6.1"
  }
 },
 "nbformat": 4,
 "nbformat_minor": 2
}
