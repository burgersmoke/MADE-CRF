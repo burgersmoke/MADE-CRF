{
 "cells": [
  {
   "cell_type": "markdown",
   "metadata": {},
   "source": [
    "# The goal of this notebook is to wire up evaluation from the MADE challenge using BIOC files"
   ]
  },
  {
   "cell_type": "code",
   "execution_count": 1,
   "metadata": {
    "collapsed": true
   },
   "outputs": [],
   "source": [
    "import os\n",
    "import json\n",
    "import random\n",
    "import pickle\n",
    "import string\n",
    "from collections import Counter\n",
    "import glob\n",
    "import time\n",
    "import subprocess\n",
    "\n",
    "import numpy as np\n",
    "import pandas as pd\n",
    "\n",
    "from sklearn.metrics import confusion_matrix\n",
    "from sklearn.metrics import make_scorer\n",
    "\n",
    "import nltk"
   ]
  },
  {
   "cell_type": "code",
   "execution_count": 2,
   "metadata": {
    "collapsed": true
   },
   "outputs": [],
   "source": [
    "import matplotlib.pyplot as plt\n",
    "%matplotlib inline"
   ]
  },
  {
   "cell_type": "code",
   "execution_count": 3,
   "metadata": {},
   "outputs": [
    {
     "name": "stderr",
     "output_type": "stream",
     "text": [
      "c:\\anaconda3\\lib\\site-packages\\gensim\\utils.py:1197: UserWarning: detected Windows; aliasing chunkize to chunkize_serial\n",
      "  warnings.warn(\"detected Windows; aliasing chunkize to chunkize_serial\")\n"
     ]
    },
    {
     "data": {
      "text/plain": [
       "'3.4.0'"
      ]
     },
     "execution_count": 3,
     "metadata": {},
     "output_type": "execute_result"
    }
   ],
   "source": [
    "import gensim\n",
    "from gensim.models.keyedvectors import KeyedVectors\n",
    "\n",
    "gensim.__version__"
   ]
  },
  {
   "cell_type": "code",
   "execution_count": 4,
   "metadata": {
    "collapsed": true
   },
   "outputs": [
    {
     "name": "stderr",
     "output_type": "stream",
     "text": [
      "c:\\anaconda3\\lib\\site-packages\\h5py\\__init__.py:36: FutureWarning: Conversion of the second argument of issubdtype from `float` to `np.floating` is deprecated. In future, it will be treated as `np.float64 == np.dtype(float).type`.\n",
      "  from ._conv import register_converters as _register_converters\n",
      "Using TensorFlow backend.\n"
     ]
    }
   ],
   "source": [
    "# this package can be found here : \n",
    "# https://github.com/Hironsan/anago\n",
    "# after cloning, it can be installed with the typical : \n",
    "# python setup.py install\n",
    "\n",
    "import anago"
   ]
  },
  {
   "cell_type": "code",
   "execution_count": 5,
   "metadata": {
    "collapsed": true
   },
   "outputs": [
    {
     "name": "stdout",
     "output_type": "stream",
     "text": [
      "Seems to be a correct version of BIOC\n"
     ]
    }
   ],
   "source": [
    "import bioc\n",
    "\n",
    "if hasattr(bioc, '__version__'):\n",
    "    print('This is not the expected version of BIOC.  The expected version has no version')\n",
    "    print('Unexpected version of BIOC : {}'.format(bioc.__version__))\n",
    "else:\n",
    "    print('Seems to be a correct version of BIOC')\n",
    "\n",
    "from bioc_evaluation import get_f_scores"
   ]
  },
  {
   "cell_type": "code",
   "execution_count": 6,
   "metadata": {
    "collapsed": true
   },
   "outputs": [],
   "source": [
    "import sklearn\n",
    "from sklearn.model_selection import GridSearchCV,RandomizedSearchCV, ParameterGrid\n",
    "from sklearn.metrics import roc_auc_score, f1_score, precision_score, recall_score\n",
    "\n",
    "import sklearn_crfsuite\n",
    "from sklearn_crfsuite.utils import flatten\n",
    "from sklearn_crfsuite import metrics"
   ]
  },
  {
   "cell_type": "code",
   "execution_count": 7,
   "metadata": {},
   "outputs": [
    {
     "name": "stdout",
     "output_type": "stream",
     "text": [
      "Imported custom BASIC modules\n"
     ]
    }
   ],
   "source": [
    "import basic\n",
    "from basic.nlp.tokenizers import clinical_tokenizers\n",
    "from basic.nlp.annotation.annotation import Annotation, AnnotatedDocument\n",
    "from basic.MADE.madetokenizer import build_made_tokenizer\n",
    "from basic.nlp.sequenceutils import get_sentence_bio_tagged_tokens\n",
    "from basic.MADE.madeutils import read_made_data, train_default_anago_model, get_all_sentence_tokens_and_tags, create_model, gather_validation_metrics\n",
    "from basic.MADE.madeutils import get_coarse_labels, evaluate_via_bioc, plot_confusion_matrix\n",
    "\n",
    "print('Imported custom BASIC modules')"
   ]
  },
  {
   "cell_type": "code",
   "execution_count": 8,
   "metadata": {},
   "outputs": [
    {
     "name": "stdout",
     "output_type": "stream",
     "text": [
      "[nltk_data] Downloading package averaged_perceptron_tagger to\n",
      "[nltk_data]     C:\\Users\\slick\\AppData\\Roaming\\nltk_data...\n",
      "[nltk_data]   Package averaged_perceptron_tagger is already up-to-\n",
      "[nltk_data]       date!\n",
      "Wall time: 1.97 s\n"
     ]
    },
    {
     "data": {
      "text/plain": [
       "True"
      ]
     },
     "execution_count": 8,
     "metadata": {},
     "output_type": "execute_result"
    }
   ],
   "source": [
    "%time nltk.download('averaged_perceptron_tagger')"
   ]
  },
  {
   "cell_type": "code",
   "execution_count": 9,
   "metadata": {
    "collapsed": true
   },
   "outputs": [],
   "source": [
    "MADE_ALL_SETS_BASE_DIR = r'C:\\temp_MADE'\n",
    "MADE_BASE_DIR = r'{0}\\MADE-1.0'.format(MADE_ALL_SETS_BASE_DIR)\n",
    "PREDICTION_DIR = 'predictions'"
   ]
  },
  {
   "cell_type": "code",
   "execution_count": 10,
   "metadata": {
    "collapsed": true
   },
   "outputs": [],
   "source": [
    "CLUSTERS_BASE_DIR = r'resources/clusters'"
   ]
  },
  {
   "cell_type": "code",
   "execution_count": 11,
   "metadata": {
    "collapsed": true
   },
   "outputs": [],
   "source": [
    "MEDEX_DIR = r'resources/medex'\n",
    "drug_term_file = 'medex_filtered_terms.txt'\n",
    "drug_term_path = os.path.join(MEDEX_DIR, drug_term_file)"
   ]
  },
  {
   "cell_type": "code",
   "execution_count": 12,
   "metadata": {},
   "outputs": [
    {
     "name": "stdout",
     "output_type": "stream",
     "text": [
      "<nltk.tag.brill.BrillTagger object at 0x000001F21D21C978>\n",
      "[('The', 'DT'), ('cat', '-None-'), ('walked', 'VBD'), ('onto', 'IN'), ('an', 'DT'), ('airplane', 'NN')]\n"
     ]
    }
   ],
   "source": [
    "# let's also load and test a Brill Part of Speech tagger which was trained on the Penn Treebank:\n",
    "BRILL_TAGGER_FILE_PATH = 'resources/pos/treebank_brill_aubt.pickle'\n",
    "brill_tagger = pickle.load(open(BRILL_TAGGER_FILE_PATH, 'rb'))\n",
    "print(brill_tagger)\n",
    "\n",
    "# now let's kick the tires on this tagger\n",
    "test_tag_tokens = 'The cat walked onto an airplane'.split()\n",
    "print(brill_tagger.tag(test_tag_tokens))"
   ]
  },
  {
   "cell_type": "code",
   "execution_count": 13,
   "metadata": {
    "collapsed": true
   },
   "outputs": [],
   "source": [
    "MAX_SENTENCE_LENGTH = 50"
   ]
  },
  {
   "cell_type": "markdown",
   "metadata": {},
   "source": [
    "# Let's load in the original training test split"
   ]
  },
  {
   "cell_type": "code",
   "execution_count": 14,
   "metadata": {},
   "outputs": [
    {
     "name": "stdout",
     "output_type": "stream",
     "text": [
      "Building MADE tokenizer...\n",
      "('.', '!')\n",
      "Compiled 8 total preprocessing regular expressions\n",
      "Total annotated documents loaded : 876\n",
      "Total Annotated Docs : 876\n"
     ]
    }
   ],
   "source": [
    "made_tokenizer = build_made_tokenizer()\n",
    "annotated_docs = read_made_data(MADE_BASE_DIR, made_tokenizer)\n",
    "\n",
    "print('Total Annotated Docs : {}'.format(len(annotated_docs)))"
   ]
  },
  {
   "cell_type": "code",
   "execution_count": 15,
   "metadata": {
    "collapsed": true
   },
   "outputs": [],
   "source": [
    "RANDOM_STATE = 777"
   ]
  },
  {
   "cell_type": "markdown",
   "metadata": {},
   "source": [
    "# To evaluate properly, we need to split apart by documents first so that we have the ability to track tokens"
   ]
  },
  {
   "cell_type": "code",
   "execution_count": 16,
   "metadata": {},
   "outputs": [
    {
     "name": "stderr",
     "output_type": "stream",
     "text": [
      "c:\\anaconda3\\lib\\site-packages\\sklearn\\model_selection\\_split.py:2026: FutureWarning: From version 0.21, test_size will always complement train_size unless both are specified.\n",
      "  FutureWarning)\n"
     ]
    },
    {
     "name": "stdout",
     "output_type": "stream",
     "text": [
      "Total training documents : 700\n",
      "Total test documents : 176\n"
     ]
    }
   ],
   "source": [
    "train_docs, test_docs = sklearn.model_selection.train_test_split(annotated_docs, train_size=0.8, random_state=RANDOM_STATE)\n",
    "print('Total training documents : {}'.format(len(train_docs)))\n",
    "print('Total test documents : {}'.format(len(test_docs)))"
   ]
  },
  {
   "cell_type": "code",
   "execution_count": 17,
   "metadata": {},
   "outputs": [
    {
     "name": "stdout",
     "output_type": "stream",
     "text": [
      "Fetching tokens and tags...\n",
      "DONE Fetching tokens and tags\n",
      "Wall time: 24.2 s\n"
     ]
    }
   ],
   "source": [
    "%%time\n",
    "\n",
    "# now let' pile up all of our documents and split them into an initial fold\n",
    "print('Fetching tokens and tags...')\n",
    "X_train, y_train = get_all_sentence_tokens_and_tags(train_docs)\n",
    "X_test, y_test = get_all_sentence_tokens_and_tags(test_docs)\n",
    "print('DONE Fetching tokens and tags')"
   ]
  },
  {
   "cell_type": "code",
   "execution_count": 18,
   "metadata": {},
   "outputs": [
    {
     "name": "stdout",
     "output_type": "stream",
     "text": [
      "CRFExtractor class ready\n"
     ]
    }
   ],
   "source": [
    "class CRFExtractor(object):\n",
    "    def __init__(self,\n",
    "                 window_size = 2,\n",
    "                 char_ngrams_enabled = set([2, 3]),\n",
    "                enable_stem_features = False,\n",
    "                enable_pos_features = False,\n",
    "                 enable_lexical_features = True,\n",
    "                pos_tagger = None,\n",
    "                word_cluster_map_tuples = [],\n",
    "                enable_sentence_window_clusters = False,\n",
    "                enable_local_window_clusters = False,\n",
    "                 enable_cluster_bigrams = False,\n",
    "                drug_term_set = set(),\n",
    "                enable_drug_term_features = False):\n",
    "        print('Creating CRFExtractor')\n",
    "        self.window_size = window_size\n",
    "        self.char_ngrams_enabled = char_ngrams_enabled\n",
    "        self.enable_stem_features = enable_stem_features\n",
    "        self.enable_pos_features = enable_pos_features\n",
    "        self.enable_lexical_features = enable_lexical_features\n",
    "        self.pos_tagger = pos_tagger\n",
    "        self.word_cluster_map_tuples = word_cluster_map_tuples\n",
    "        self.enable_sentence_window_clusters = enable_sentence_window_clusters\n",
    "        self.enable_local_window_clusters = enable_local_window_clusters\n",
    "        self.enable_cluster_bigrams = enable_cluster_bigrams\n",
    "        self.drug_term_set = drug_term_set\n",
    "        self.enable_drug_term_features = enable_drug_term_features\n",
    "        \n",
    "        # this is used to collect drug terms found\n",
    "        self.found_drug_term_set = set()\n",
    "        \n",
    "        print('Total word maps loaded : {}'.format(len(self.word_cluster_map_tuples)))\n",
    "        print('Character ngrams enabled : {}'.format(str(char_ngrams_enabled)))\n",
    "        \n",
    "    def add_sentence_window_clusters(self, feature_prefix, tokens, features, cluster_mapping_tokens_map):\n",
    "        if len(self.word_cluster_map_tuples) == 0:\n",
    "            return\n",
    "        \n",
    "        # iterate through the list of mappings already computed\n",
    "        for map_prefix, token_clusters in cluster_mapping_tokens_map.items():\n",
    "            # loop through each token in the window and add a one-hot value for each cluster mapped\n",
    "            for cluster_mapping in token_clusters:\n",
    "                if cluster_mapping is not None:\n",
    "                    # feature name should include which direction (left/right) and which clusters were found\n",
    "                    cluster_feature_name = '{0}_{1}_CL_{2}'.format(feature_prefix, map_prefix, str(cluster_mapping))\n",
    "                    features[cluster_feature_name] = True\n",
    "                    \n",
    "    def add_drug_window_features(self, feature_prefix, tokens, features):\n",
    "        found_in_window = False\n",
    "        for token in tokens:\n",
    "            # drug set is all lowercase\n",
    "            token_lower = token.lower()\n",
    "            if token_lower in self.drug_term_set:\n",
    "                found_in_window = True\n",
    "                self.found_drug_term_set.add(token_lower)\n",
    "                break\n",
    "                \n",
    "        if found_in_window:\n",
    "            drug_feature_name = 'D_{0}'.format(feature_prefix)\n",
    "            features[drug_feature_name] = True\n",
    "        \n",
    "    def add_local_window_cluster(self, prefix, token_idx, features, cluster_mapping_tokens_map):\n",
    "        if len(self.word_cluster_map_tuples) == 0:\n",
    "            return\n",
    "        \n",
    "        # iterate through the list of mappings already computed\n",
    "        for map_prefix, token_clusters in cluster_mapping_tokens_map.items():\n",
    "            cluster_mapping = token_clusters[token_idx]\n",
    "            if cluster_mapping is not None:\n",
    "                # feature name should include the position \n",
    "                cluster_feature_name = '{0}_{1}_CL'.format(prefix, map_prefix)\n",
    "                # and then the value will be the categorical cluster value\n",
    "                features[cluster_feature_name] = str(cluster_mapping)\n",
    "                \n",
    "    def add_cluster_bigrams(self, i, cluster_tokens_map, features):\n",
    "        # for each map, let's work over each window\n",
    "        for cluster_prefix, token_mappings in cluster_tokens_map.items():\n",
    "            # work across the window\n",
    "            for window_idx in range(-1 * self.window_size, self.window_size + 1):\n",
    "                # make sure that we do not go out of bounds\n",
    "                token_a_idx = i + window_idx\n",
    "                token_b_idx = i + window_idx + 1\n",
    "                if token_a_idx < 0 or token_b_idx >= len(token_mappings):\n",
    "                    continue\n",
    "                \n",
    "                #print('Working on token index {0}'.format(curr_token_idx))\n",
    "                token_a_prefix = str(window_idx)\n",
    "                token_b_prefix = str(window_idx + 1)\n",
    "                \n",
    "                feature_name = '{0}_G_{1}_{2}'.format(cluster_prefix, token_a_prefix, token_b_prefix)\n",
    "                feature_value = '{0}_{1}'.format(token_mappings[token_a_idx], token_mappings[token_b_idx])\n",
    "                features[feature_name] = feature_value\n",
    "                \n",
    "    def get_token_cluster(self, token, word_cluster_map):\n",
    "        # default to unknown\n",
    "        cluster_mapping = 'U'\n",
    "        if token in word_cluster_map:\n",
    "            cluster_mapping = word_cluster_map[token]\n",
    "        elif token.lower() in word_cluster_map:\n",
    "            cluster_mapping = word_cluster_map[token.lower()]\n",
    "            # if this was found as lower, let's save the original form with the same mapping to\n",
    "            # hopefully make the next time faster\n",
    "            word_cluster_map[token] = cluster_mapping\n",
    "            \n",
    "        return cluster_mapping\n",
    "    \n",
    "    def sent2features(self, sent):\n",
    "        sentence_features = []\n",
    "        \n",
    "        # TODO : This is more useful on documents which might be ALL UPPERCASE\n",
    "        use_lower_tokens = False\n",
    "        sentence_tokens_preferred = sent\n",
    "        if use_lower_tokens:\n",
    "            sentence_tokens_lower = [x.lower() for x in sent]\n",
    "            sentence_tokens_preferred = sentence_tokens_lower\n",
    "            \n",
    "        # POS tagging (if enabled)\n",
    "        sentence_pos_tag_pairs = None\n",
    "        if self.enable_pos_features:\n",
    "            sentence_pos_tag_pairs = self.pos_tagger.tag(sentence_tokens_preferred)\n",
    "            \n",
    "        # for each cluster map, let's pre-compute the mappings so we can do easily lookups later\n",
    "        cluster_mapping_tokens_map = {}\n",
    "        for word_cluster_map_tuple in self.word_cluster_map_tuples:\n",
    "            map_prefix = word_cluster_map_tuple[0]\n",
    "            word_cluster_map = word_cluster_map_tuple[1]\n",
    "            \n",
    "            token_clusters = []\n",
    "            \n",
    "            # now get the mapping for each token\n",
    "            for token in sentence_tokens_preferred:\n",
    "                cluster = self.get_token_cluster(token, word_cluster_map)\n",
    "                token_clusters.append(cluster)\n",
    "            \n",
    "            # save this\n",
    "            cluster_mapping_tokens_map[map_prefix] = token_clusters\n",
    "        \n",
    "        # now loop through each word in the sentence and create a feature vector (dictionary) for each\n",
    "        for i in range(len(sent)):\n",
    "            word = sent[i]\n",
    "        \n",
    "            # let's work across the window of tokens specified\n",
    "            features = {}\n",
    "            \n",
    "            # let's get tokens on either side\n",
    "            tokens_left = sentence_tokens_preferred[:i]\n",
    "            tokens_right = tokens_left = sentence_tokens_preferred[i + 1:]\n",
    "            \n",
    "            if self.enable_drug_term_features:\n",
    "                self.add_drug_window_features('L', tokens_left, features)\n",
    "                self.add_drug_window_features('R', tokens_right, features)\n",
    "                self.add_drug_window_features('ALL', sentence_tokens_preferred, features)\n",
    "\n",
    "            if self.enable_sentence_window_clusters:\n",
    "                self.add_sentence_window_clusters('L', tokens_left, features, cluster_mapping_tokens_map)\n",
    "                self.add_sentence_window_clusters('R', tokens_right, features, cluster_mapping_tokens_map)\n",
    "                \n",
    "            if self.enable_cluster_bigrams:\n",
    "                self.add_cluster_bigrams(i, cluster_mapping_tokens_map, features)\n",
    "\n",
    "            for window_idx in range(-1 * self.window_size, self.window_size + 1):\n",
    "                curr_token_idx = i + window_idx\n",
    "                #print('Working on token index {0}'.format(curr_token_idx))\n",
    "                prefix = str(window_idx)\n",
    "\n",
    "                if curr_token_idx < 0:\n",
    "                    if self.enable_lexical_features:\n",
    "                        features[prefix + 'wlow'] = 'bos'     \n",
    "                elif curr_token_idx >= len(sent):\n",
    "                    if self.enable_lexical_features:\n",
    "                        features[prefix + 'wlow'] = 'eos'\n",
    "                else:\n",
    "                    word = sentence_tokens_preferred[curr_token_idx]\n",
    "\n",
    "                    if self.enable_local_window_clusters:\n",
    "                        self.add_local_window_cluster(prefix, curr_token_idx, features, cluster_mapping_tokens_map)\n",
    "\n",
    "                    word_lower = word.lower()\n",
    "                    if self.enable_lexical_features:\n",
    "                        features[prefix + 'wlow'] = word_lower\n",
    "                        \n",
    "                        if self.enable_stem_features:\n",
    "                            features[prefix + 'wstem'] = self.stemmer.stem(word_lower)\n",
    "                        \n",
    "                        if 2 in self.char_ngrams_enabled:\n",
    "                            features[prefix + 'c[-2:]'] = word_lower[-2:]\n",
    "                            features[prefix + 'c[:2]'] = word_lower[:2]\n",
    "                        if 3 in self.char_ngrams_enabled:\n",
    "                            features[prefix + 'c[-3:]'] = word_lower[-3:]\n",
    "                            features[prefix + 'word[:3]'] = word_lower[:3]\n",
    "                        if 4 in self.char_ngrams_enabled:\n",
    "                            features[prefix + 'c[-4:]'] = word_lower[-4:]\n",
    "                            features[prefix + 'c[:4]'] = word_lower[:4]\n",
    "                            \n",
    "                    if self.enable_drug_term_features:\n",
    "                        # drug set is all lowercase\n",
    "                        if word_lower in drug_term_set:\n",
    "                            features[prefix + 'wdrug'] = True\n",
    "\n",
    "                    features[prefix + 'w.islower'] = word.islower()\n",
    "                    features[prefix + 'w.isupper'] = word.isupper()\n",
    "                    features[prefix + 'w.istitle'] = word.istitle()\n",
    "                    features[prefix + 'w.isdigit'] = word.isdigit()\n",
    "                    features[prefix + 'w.any_alpha'] = any(char.isalpha() for char in word_lower)\n",
    "                    features[prefix + 'w.all_punct'] = all(char in string.punctuation for char in word_lower)\n",
    "\n",
    "                    if self.enable_pos_features:\n",
    "                        postag_pair = sentence_pos_tag_pairs[curr_token_idx]\n",
    "                        # This pair will be in the form ('token', 'TAG')\n",
    "                        features[prefix + 'pos'] = postag_pair[1] \n",
    "\n",
    "                # update for any word encountered\n",
    "                #features.update(word_features)\n",
    "\n",
    "            sentence_features.append(features)\n",
    "        return sentence_features\n",
    "    \n",
    "print('CRFExtractor class ready')"
   ]
  },
  {
   "cell_type": "code",
   "execution_count": 19,
   "metadata": {},
   "outputs": [
    {
     "name": "stdout",
     "output_type": "stream",
     "text": [
      "Loading clusters from : resources/clusters\\WordClusters_K500_BatchKmeans_wikipedia-pubmed-and-PMC-w2v.pickle\n",
      "Word Cluster map size : 5443656\n",
      "Loading clusters from : resources/clusters\\WordClusters_K5000_BatchKmeans_wikipedia-pubmed-and-PMC-w2v.pickle\n",
      "Word Cluster map size : 5443656\n",
      "Loading clusters from : resources/clusters\\WordClusters_K10000_BatchKmeans_wikipedia-pubmed-and-PMC-w2v.pickle\n",
      "Word Cluster map size : 5443656\n",
      "Loading clusters from : resources/clusters\\WordClusters_K500_BatchKmeans_pubmed+wiki+pitts-nopunct-lower-cbow-n10.pickle\n",
      "Word Cluster map size : 1352549\n",
      "Loading clusters from : resources/clusters\\WordClusters_K5000_BatchKmeans_pubmed+wiki+pitts-nopunct-lower-cbow-n10.pickle\n",
      "Word Cluster map size : 1352549\n",
      "Loading clusters from : resources/clusters\\WordClusters_K10000_BatchKmeans_pubmed+wiki+pitts-nopunct-lower-cbow-n10.pickle\n",
      "Word Cluster map size : 1352549\n"
     ]
    }
   ],
   "source": [
    "cluster_sizes = [500, 5000, 10000]\n",
    "external_cluster_tuples = []\n",
    "pitt_cluster_tuples = []\n",
    "\n",
    "cluster_prefix_filepart_map = {'E' : 'wikipedia-pubmed-and-PMC-w2v', 'P' : 'pubmed+wiki+pitts-nopunct-lower-cbow-n10'}\n",
    "\n",
    "for prefix, filepart in cluster_prefix_filepart_map.items():\n",
    "    for cluster_size in cluster_sizes:\n",
    "        full_prefix = '{0}_{1}'.format(prefix, cluster_size)\n",
    "        cluster_filename = 'WordClusters_K{0}_BatchKmeans_{1}.pickle'.format(cluster_size, filepart)\n",
    "        cluster_filepath = os.path.join(CLUSTERS_BASE_DIR, cluster_filename)\n",
    "        print('Loading clusters from : {}'.format(cluster_filepath))\n",
    "        with open(cluster_filepath, 'rb') as handle:\n",
    "            word_cluster_map = pickle.load(handle)\n",
    "            print('Word Cluster map size : {}'.format(len(word_cluster_map)))\n",
    "            \n",
    "            if prefix == 'E':\n",
    "                external_cluster_tuples.append(tuple((full_prefix, word_cluster_map)))\n",
    "            elif prefix == 'P':\n",
    "                pitt_cluster_tuples.append(tuple((full_prefix, word_cluster_map)))"
   ]
  },
  {
   "cell_type": "code",
   "execution_count": 20,
   "metadata": {},
   "outputs": [
    {
     "name": "stdout",
     "output_type": "stream",
     "text": [
      "Total Drug terms added : 17643\n"
     ]
    }
   ],
   "source": [
    "drug_term_set = set()\n",
    "with open(drug_term_path, 'r') as drug_file:\n",
    "    for line in drug_file:\n",
    "        line = line.strip()\n",
    "        drug_term_set.add(line)\n",
    "        \n",
    "print('Total Drug terms added : {}'.format(len(drug_term_set)))"
   ]
  },
  {
   "cell_type": "code",
   "execution_count": 21,
   "metadata": {},
   "outputs": [
    {
     "name": "stdout",
     "output_type": "stream",
     "text": [
      "Prepping extractor for featureset : Baseline_and_characters\n",
      "Prepping extractor for Baseline_and_characters featureset\n",
      "Creating CRFExtractor\n",
      "Total word maps loaded : 0\n",
      "Character ngrams enabled : {2, 3}\n",
      "Extracting features...\n",
      "DONE extracting features...\n",
      "Wall time: 32 s\n"
     ]
    }
   ],
   "source": [
    "%%time\n",
    "\n",
    "# set each one of these to determine which final submission set we are writing out\n",
    "#FEATURE_SET = 'Fast'\n",
    "#FEATURE_SET = 'Standard'\n",
    "#FEATURE_SET = 'Extended'\n",
    "#FEATURE_SET = 'Baseline'\n",
    "FEATURE_SET = 'Baseline_and_characters'\n",
    "\n",
    "RUN_NAME = 'Run1'\n",
    "#RUN_NAME = 'Run2'\n",
    "\n",
    "print('Prepping extractor for featureset : {}'.format(FEATURE_SET))\n",
    "\n",
    "if FEATURE_SET == 'Fast':\n",
    "    print('Prepping fast extractor for rapid development...')\n",
    "    extractor = CRFExtractor(\n",
    "                            char_ngrams_enabled = set(),\n",
    "                            word_cluster_map_tuples = [],\n",
    "                            #word_cluster_map_tuples = external_cluster_tuples + pitt_cluster_tuples,\n",
    "                            enable_pos_features = False,\n",
    "                            enable_lexical_features = False,\n",
    "                            pos_tagger = None,\n",
    "                            enable_local_window_clusters = False,\n",
    "                            enable_sentence_window_clusters = False,\n",
    "                            enable_cluster_bigrams = False,\n",
    "                            drug_term_set = set(),\n",
    "                            enable_drug_term_features = False,\n",
    "                            window_size = 0)\n",
    "elif FEATURE_SET == 'Standard':\n",
    "    print('Prepping better Standard extractor')\n",
    "    extractor = CRFExtractor(\n",
    "                            #char_ngrams_enabled = set([2, 3, 4]), \n",
    "                            char_ngrams_enabled = set([2, 3]), \n",
    "                            #word_cluster_map_tuples = external_cluster_tuples,\n",
    "                            word_cluster_map_tuples = pitt_cluster_tuples,\n",
    "                            #word_cluster_map_tuples = external_cluster_tuples + pitt_cluster_tuples,\n",
    "                            enable_pos_features = True,\n",
    "                            enable_lexical_features = True,\n",
    "                            pos_tagger = brill_tagger,\n",
    "                            enable_local_window_clusters = True,\n",
    "                            enable_sentence_window_clusters = False,\n",
    "                            enable_cluster_bigrams = True,\n",
    "                            drug_term_set = set(),\n",
    "                            enable_drug_term_features = False,\n",
    "                            window_size = 2\n",
    "                            )\n",
    "    \n",
    "elif FEATURE_SET == 'Extended':\n",
    "    print('Prepping better Extended extractor')\n",
    "    extractor = CRFExtractor(\n",
    "                            char_ngrams_enabled = set([2, 3]), \n",
    "                            #word_cluster_map_tuples = external_cluster_tuples,\n",
    "                            #word_cluster_map_tuples = pitt_cluster_tuples,\n",
    "                            word_cluster_map_tuples = external_cluster_tuples + pitt_cluster_tuples,\n",
    "                            enable_pos_features = True,\n",
    "                            enable_lexical_features = True,\n",
    "                            pos_tagger = brill_tagger,\n",
    "                            enable_local_window_clusters = True,\n",
    "                            enable_sentence_window_clusters = False,\n",
    "                            enable_cluster_bigrams = True,\n",
    "                            drug_term_set = drug_term_set,\n",
    "                            enable_drug_term_features = True,\n",
    "                            window_size = 2\n",
    "                            )\n",
    "elif FEATURE_SET == 'Baseline':\n",
    "    print('Prepping extractor for BASELINE featureset')\n",
    "    extractor = CRFExtractor(\n",
    "                            char_ngrams_enabled = set(), \n",
    "                            #word_cluster_map_tuples = external_cluster_tuples,\n",
    "                            #word_cluster_map_tuples = pitt_cluster_tuples,\n",
    "                            word_cluster_map_tuples = [],\n",
    "                            enable_pos_features = True,\n",
    "                            enable_lexical_features = True,\n",
    "                            pos_tagger = brill_tagger,\n",
    "                            enable_local_window_clusters = False,\n",
    "                            enable_sentence_window_clusters = False,\n",
    "                            enable_cluster_bigrams = False,\n",
    "                            drug_term_set = set(),\n",
    "                            enable_drug_term_features = False,\n",
    "                            window_size = 2\n",
    "                            )\n",
    "elif FEATURE_SET == 'Baseline_and_characters':\n",
    "    print('Prepping extractor for Baseline_and_characters featureset')\n",
    "    extractor = CRFExtractor(\n",
    "                            char_ngrams_enabled = set([2, 3]), \n",
    "                            #word_cluster_map_tuples = external_cluster_tuples,\n",
    "                            #word_cluster_map_tuples = pitt_cluster_tuples,\n",
    "                            word_cluster_map_tuples = [],\n",
    "                            enable_pos_features = True,\n",
    "                            enable_lexical_features = True,\n",
    "                            pos_tagger = brill_tagger,\n",
    "                            enable_local_window_clusters = False,\n",
    "                            enable_sentence_window_clusters = False,\n",
    "                            enable_cluster_bigrams = False,\n",
    "                            drug_term_set = set(),\n",
    "                            enable_drug_term_features = False,\n",
    "                            window_size = 2\n",
    "                            )\n",
    "\n",
    "if False:\n",
    "    print('Example features : ')\n",
    "    example_features = [extractor.sent2features(s) for s in X_train[0]]\n",
    "    print(example_features)\n",
    "\n",
    "print('Extracting features...')\n",
    "X_train_feat = [extractor.sent2features(s) for s in X_train]\n",
    "X_test_feat = [extractor.sent2features(s) for s in X_test]\n",
    "print('DONE extracting features...')"
   ]
  },
  {
   "cell_type": "code",
   "execution_count": 22,
   "metadata": {},
   "outputs": [],
   "source": [
    "for drug_term in sorted(list(extractor.found_drug_term_set)):\n",
    "    print(drug_term)"
   ]
  },
  {
   "cell_type": "code",
   "execution_count": 23,
   "metadata": {
    "collapsed": true
   },
   "outputs": [],
   "source": [
    "#print(X_train_feat[:50])"
   ]
  },
  {
   "cell_type": "markdown",
   "metadata": {},
   "source": [
    "# Train the model"
   ]
  },
  {
   "cell_type": "code",
   "execution_count": 24,
   "metadata": {},
   "outputs": [
    {
     "name": "stdout",
     "output_type": "stream",
     "text": [
      "Set values for Run1\n",
      "L1/L2 Values : c1 = 0.1, c2 = 0.5\n",
      "max_iterations = 100\n",
      "Training CRF...\n",
      "Training using all available data...\n",
      "DONE Training CRF...\n",
      "Wall time: 8min 21s\n"
     ]
    }
   ],
   "source": [
    "%%time\n",
    "\n",
    "SINGLE_FOLD_FIT = True\n",
    "WRITE_TEST_PREDICTIONS = True\n",
    "TRAIN_ON_ALL_DATA = True\n",
    "\n",
    "c1 = 0.0\n",
    "c2 = 0.0\n",
    "\n",
    "if RUN_NAME == 'Run1':\n",
    "    # this set allowed F1 of 86.8 on the TEST set (3/4/18 at 9pm)\n",
    "    c1 = 0.1\n",
    "    c2 = 0.5\n",
    "elif RUN_NAME == 'Run2':\n",
    "    # this set allowed a different F1 of 86.5 on the TEST set (3/5/18 at 7am):\n",
    "    c1 = 0.2\n",
    "    c2 = 0.75\n",
    "    \n",
    "max_iterations = 100\n",
    "if FEATURE_SET == 'Fast':\n",
    "    max_iterations = 5\n",
    "    \n",
    "print('Set values for {}'.format(RUN_NAME))\n",
    "print('L1/L2 Values : c1 = {0}, c2 = {1}'.format(c1, c2))\n",
    "print('max_iterations = {0}'.format(max_iterations))\n",
    "\n",
    "crf = sklearn_crfsuite.CRF(\n",
    "    algorithm='lbfgs',\n",
    "    # these get set above based on the run\n",
    "    c1 = c1,\n",
    "    c2 = c2,\n",
    "    max_iterations = max_iterations,\n",
    "    all_possible_transitions=True\n",
    ")\n",
    "\n",
    "if SINGLE_FOLD_FIT:\n",
    "    print('Training CRF...')\n",
    "\n",
    "    if WRITE_TEST_PREDICTIONS and TRAIN_ON_ALL_DATA:\n",
    "        print('Training using all available data...')\n",
    "        crf.fit(X_train_feat + X_test_feat, y_train + y_test)\n",
    "    else:\n",
    "        print('Training using training data only...')\n",
    "        crf.fit(X_train_feat, y_train)\n",
    "\n",
    "    print('DONE Training CRF...')\n",
    "else:\n",
    "    print('Skipping single fold training')"
   ]
  },
  {
   "cell_type": "code",
   "execution_count": 25,
   "metadata": {},
   "outputs": [
    {
     "name": "stdout",
     "output_type": "stream",
     "text": [
      "{'B-Severity', 'I-Frequency', 'I-Duration', 'B-Duration', 'B-ADE', 'I-Drug', 'B-Frequency', 'I-SSLIF', 'I-ADE', 'I-Indication', 'I-Severity', 'B-Dose', 'I-Dose', 'I-Route', 'O', 'B-SSLIF', 'B-Indication', 'B-Route', 'B-Drug'}\n",
      "['B-Severity', 'I-Frequency', 'I-Duration', 'B-Duration', 'B-ADE', 'I-Drug', 'B-Frequency', 'I-SSLIF', 'I-ADE', 'I-Indication', 'I-Severity', 'B-Dose', 'I-Dose', 'I-Route', 'B-SSLIF', 'B-Indication', 'B-Route', 'B-Drug']\n"
     ]
    }
   ],
   "source": [
    "labels = []\n",
    "label_set = set()\n",
    "\n",
    "for instance_labels in (y_train + y_test):\n",
    "    label_set |= set(instance_labels)\n",
    "    \n",
    "labels = list(label_set)\n",
    "\n",
    "labels.remove('O')\n",
    "print(label_set)\n",
    "print(labels)"
   ]
  },
  {
   "cell_type": "code",
   "execution_count": 26,
   "metadata": {},
   "outputs": [
    {
     "name": "stdout",
     "output_type": "stream",
     "text": [
      "['B-ADE', 'I-ADE', 'B-Dose', 'I-Dose', 'B-Drug', 'I-Drug', 'B-Duration', 'I-Duration', 'B-Frequency', 'I-Frequency', 'B-Indication', 'I-Indication', 'B-Route', 'I-Route', 'B-SSLIF', 'I-SSLIF', 'B-Severity', 'I-Severity']\n",
      "['ADE', 'SSLIF', 'Severity', 'Indication', 'Dose', 'Route', 'Frequency', 'Drug', 'Duration']\n"
     ]
    }
   ],
   "source": [
    "# group B and I results\n",
    "sorted_labels = sorted(\n",
    "    labels,\n",
    "    key=lambda name: (name[1:], name[0])\n",
    ")\n",
    "\n",
    "# let's get a coarse report as well\n",
    "sorted_coarse_labels = sorted(\n",
    "    set(get_coarse_labels(labels)),\n",
    "    key=lambda name: (name[1:], name[0])\n",
    ")\n",
    "\n",
    "print(sorted_labels)\n",
    "print(sorted_coarse_labels)"
   ]
  },
  {
   "cell_type": "code",
   "execution_count": 27,
   "metadata": {
    "collapsed": true
   },
   "outputs": [],
   "source": [
    "if SINGLE_FOLD_FIT:\n",
    "    y_pred = crf.predict(X_test_feat)\n",
    "    sklearn_crfsuite.metrics.flat_f1_score(y_test, y_pred,\n",
    "                          average='weighted', labels=labels)"
   ]
  },
  {
   "cell_type": "code",
   "execution_count": 28,
   "metadata": {
    "collapsed": true
   },
   "outputs": [],
   "source": [
    "if SINGLE_FOLD_FIT:\n",
    "    y_train_pred = crf.predict(X_train_feat)\n",
    "    sklearn_crfsuite.metrics.flat_f1_score(y_train, y_train_pred,\n",
    "                          average='weighted', labels=labels)"
   ]
  },
  {
   "cell_type": "code",
   "execution_count": 29,
   "metadata": {},
   "outputs": [
    {
     "name": "stdout",
     "output_type": "stream",
     "text": [
      "              precision    recall  f1-score   support\n",
      "\n",
      "       B-ADE      0.888     0.729     0.801       273\n",
      "       I-ADE      0.941     0.749     0.834       191\n",
      "      B-Dose      0.990     0.987     0.988      1044\n",
      "      I-Dose      0.980     0.993     0.986      1136\n",
      "      B-Drug      0.993     0.992     0.992      3006\n",
      "      I-Drug      0.982     0.969     0.975       732\n",
      "  B-Duration      0.905     0.931     0.918       174\n",
      "  I-Duration      0.901     0.912     0.906       159\n",
      " B-Frequency      0.974     0.970     0.972       952\n",
      " I-Frequency      0.979     0.981     0.980      1347\n",
      "B-Indication      0.882     0.603     0.716       685\n",
      "I-Indication      0.882     0.644     0.745       846\n",
      "     B-Route      0.979     0.985     0.982       481\n",
      "     I-Route      0.942     0.992     0.967       132\n",
      "     B-SSLIF      0.923     0.941     0.932      6851\n",
      "     I-SSLIF      0.915     0.927     0.921      7809\n",
      "  B-Severity      0.948     0.923     0.935       568\n",
      "  I-Severity      0.940     0.920     0.930       137\n",
      "\n",
      " avg / total      0.939     0.929     0.932     26523\n",
      "\n",
      "             precision    recall  f1-score   support\n",
      "\n",
      "        ADE      0.910     0.737     0.814       464\n",
      "      SSLIF      0.928     0.943     0.936     14660\n",
      "   Severity      0.952     0.928     0.940       705\n",
      " Indication      0.886     0.628     0.735      1531\n",
      "       Dose      0.985     0.990     0.988      2180\n",
      "      Route      0.971     0.987     0.979       613\n",
      "  Frequency      0.982     0.981     0.982      2299\n",
      "       Drug      0.993     0.990     0.991      3738\n",
      "   Duration      0.903     0.922     0.912       333\n",
      "\n",
      "avg / total      0.945     0.935     0.939     26523\n",
      "\n"
     ]
    }
   ],
   "source": [
    "if SINGLE_FOLD_FIT:\n",
    "    print(sklearn_crfsuite.metrics.flat_classification_report(\n",
    "        y_test, y_pred, labels=sorted_labels, digits=3\n",
    "    ))\n",
    "    \n",
    "    #print(len(y_test))\n",
    "    #print(len(y_pred))\n",
    "    \n",
    "    print(sklearn_crfsuite.metrics.flat_classification_report(\n",
    "        [get_coarse_labels(x) for x in y_test], [get_coarse_labels(x) for x in y_pred], labels=sorted_coarse_labels, digits=3\n",
    "    ))"
   ]
  },
  {
   "cell_type": "code",
   "execution_count": 30,
   "metadata": {},
   "outputs": [
    {
     "name": "stdout",
     "output_type": "stream",
     "text": [
      "['ADE', 'Dose', 'Drug', 'Duration', 'Frequency', 'Indication', 'O', 'Route', 'SSLIF', 'Severity']\n",
      "Confusion matrix, without normalization\n"
     ]
    },
    {
     "data": {
      "text/plain": [
       "<matplotlib.figure.Figure at 0x1f44b5ec908>"
      ]
     },
     "metadata": {},
     "output_type": "display_data"
    },
    {
     "data": {
      "image/png": "[encoded data removed]",
      "text/plain": [
       "<matplotlib.figure.Figure at 0x1f44b281ef0>"
      ]
     },
     "metadata": {},
     "output_type": "display_data"
    }
   ],
   "source": [
    "if SINGLE_FOLD_FIT:\n",
    "    sorted_coarse_no_filter = list(sorted_coarse_labels)\n",
    "    sorted_coarse_no_filter.append('O')\n",
    "    sorted_coarse_no_filter = sorted(sorted_coarse_no_filter)\n",
    "    print(sorted_coarse_no_filter)\n",
    "\n",
    "    confusion_coarse = confusion_matrix(flatten([get_coarse_labels(x) for x in y_test]), \n",
    "                                        flatten([get_coarse_labels(x) for x in y_pred])\n",
    "                                        , labels = sorted_coarse_no_filter)\n",
    "    plt.figure()\n",
    "\n",
    "    plot_confusion_matrix(confusion_coarse, classes=sorted_coarse_no_filter,\n",
    "                          title='Coarse Label Confusion for : [{0}]'.format('TEST'))\n",
    "    plt.show()"
   ]
  },
  {
   "cell_type": "markdown",
   "metadata": {},
   "source": [
    "# Now let's try to evaluate spans just as the final BIOC evaluation will happen"
   ]
  },
  {
   "cell_type": "code",
   "execution_count": 31,
   "metadata": {},
   "outputs": [
    {
     "name": "stdout",
     "output_type": "stream",
     "text": [
      "Total documents for evaluation : 176\n",
      "Existing files removed : 176\n",
      "Total prediction documents written : 176\n",
      "The support, recall, precision, and f-score for Task NER-STRICT : Category Drug is 3025,0.9758677685950413,0.983344437041972,0.979591836734694\n",
      "The support, recall, precision, and f-score for Task NER-STRICT : Category Indication is 705,0.5687943262411348,0.8568376068376068,0.6837169650468884\n",
      "The support, recall, precision, and f-score for Task NER-STRICT : Category Frequency is 933,0.9421221864951769,0.9272151898734177,0.934609250398724\n",
      "The support, recall, precision, and f-score for Task NER-STRICT : Category Severity is 620,0.8451612903225807,0.9475587703435805,0.8934356351236147\n",
      "The support, recall, precision, and f-score for Task NER-STRICT : Category Dose is 1072,0.9253731343283582,0.9538461538461539,0.9393939393939394\n",
      "The support, recall, precision, and f-score for Task NER-STRICT : Category Duration is 174,0.8390804597701149,0.8156424581005587,0.8271954674220963\n",
      "The support, recall, precision, and f-score for Task NER-STRICT : Category Route is 485,0.977319587628866,0.9793388429752066,0.9783281733746131\n",
      "The support, recall, precision, and f-score for Task NER-STRICT : Category ADE is 313,0.6325878594249201,0.8839285714285714,0.7374301675977654\n",
      "The support, recall, precision, and f-score for Task NER-STRICT : Category SSLIF is 6918,0.9122578779994218,0.9041547277936963,0.9081882285220896\n",
      "The support, recall, precision, and f-score for Task NER-STRICT : Micro score is 14245,0.903966303966304,0.9278714512177547,0.9157628986950184\n",
      "The support, recall, precision, and f-score for Task NER-APPROXIMATE : Category Drug is 3668,0.9800981461286805,0.9873661082120296,0.9837187029689424\n",
      "The support, recall, precision, and f-score for Task NER-APPROXIMATE : Category Indication is 1561,0.6079436258808456,0.8803339517625232,0.7192118226600984\n",
      "The support, recall, precision, and f-score for Task NER-APPROXIMATE : Category Frequency is 2198,0.9758871701546861,0.978558394160584,0.9772209567198178\n",
      "The support, recall, precision, and f-score for Task NER-APPROXIMATE : Category Severity is 763,0.8597640891218873,0.9576642335766423,0.9060773480662984\n",
      "The support, recall, precision, and f-score for Task NER-APPROXIMATE : Category Dose is 2179,0.9770536943552088,0.9838262476894639,0.980428275385678\n",
      "The support, recall, precision, and f-score for Task NER-APPROXIMATE : Category Duration is 345,0.881159420289855,0.8941176470588236,0.8875912408759125\n",
      "The support, recall, precision, and f-score for Task NER-APPROXIMATE : Category Route is 517,0.9671179883945842,0.9689922480620154,0.968054211035818\n",
      "The support, recall, precision, and f-score for Task NER-APPROXIMATE : Category ADE is 546,0.6282051282051282,0.9122340425531915,0.7440347071583515\n",
      "The support, recall, precision, and f-score for Task NER-APPROXIMATE : Category SSLIF is 14634,0.9333743337433374,0.9258455907273097,0.9295947187531902\n",
      "The support, recall, precision, and f-score for Task NER-APPROXIMATE : Micro score is 26411,0.9193139222293741,0.9430957467469412,0.9310529948615692\n",
      "The support, recall, precision, and f-score for Task RELATION : Category severity_type is 636,0.0,0.0,0.0\n",
      "The support, recall, precision, and f-score for Task RELATION : Category manner/route is 562,0.0,0.0,0.0\n",
      "The support, recall, precision, and f-score for Task RELATION : Category reason is 1028,0.0,0.0,0.0\n",
      "The support, recall, precision, and f-score for Task RELATION : Category do is 1154,0.0,0.0,0.0\n",
      "The support, recall, precision, and f-score for Task RELATION : Category du is 215,0.0,0.0,0.0\n",
      "The support, recall, precision, and f-score for Task RELATION : Category fr is 1011,0.0,0.0,0.0\n",
      "The support, recall, precision, and f-score for Task RELATION : Category adverse is 449,0.0,0.0,0.0\n",
      "The support, recall, precision, and f-score for Task RELATION : Micro score is 5055,0.0,0.0,0.0\n"
     ]
    }
   ],
   "source": [
    "if SINGLE_FOLD_FIT:\n",
    "    evaluate_via_bioc(test_docs, crf, extractor, PREDICTION_DIR, MADE_BASE_DIR)"
   ]
  },
  {
   "cell_type": "markdown",
   "metadata": {},
   "source": [
    "# Error Analysis\n",
    "Let's take a look at some cases of opportunities for improvement"
   ]
  },
  {
   "cell_type": "code",
   "execution_count": 32,
   "metadata": {},
   "outputs": [
    {
     "name": "stdout",
     "output_type": "stream",
     "text": [
      "Total TP examples : 7459\n",
      "Total FP examples : 657\n",
      "Total FN examples : 774\n"
     ]
    }
   ],
   "source": [
    "def create_sentence_string(tokens, tags):\n",
    "    tagged_string = ''\n",
    "    for i in range(len(tokens)):\n",
    "        token = tokens[i]\n",
    "        tag = tags[i]\n",
    "        tagged_string += token\n",
    "        if tag != 'O':\n",
    "            tagged_string += '/{0}'.format(tag)\n",
    "            \n",
    "        tagged_string += ' '\n",
    "        \n",
    "    return tagged_string.strip()\n",
    "\n",
    "if SINGLE_FOLD_FIT:\n",
    "\n",
    "    # set up a map to collect errors\n",
    "    test_fp_map = {}\n",
    "    test_fn_map = {}\n",
    "    test_tp_map = {}\n",
    "    for label in labels:\n",
    "        label = label.replace('B-', '').replace('I-', '')\n",
    "        test_fp_map[label] = set()\n",
    "        test_fn_map[label] = set()\n",
    "        test_tp_map[label] = set()\n",
    "\n",
    "    # then gather the errors by label\n",
    "    for i in range(len(y_test)):\n",
    "        sentence_tokens = X_test[i]\n",
    "        sentence_gold = y_test[i]\n",
    "        sentence_pred = y_pred[i]\n",
    "        sentence_gold = [x.replace('B-', '').replace('I-', '') for x in sentence_gold]\n",
    "        sentence_pred = [x.replace('B-', '').replace('I-', '') for x in sentence_pred]\n",
    "        sentence_gold_str = 'GOLD : ' + create_sentence_string(sentence_tokens, sentence_gold)\n",
    "        sentence_pred_str = 'PRED : ' + create_sentence_string(sentence_tokens, sentence_pred)\n",
    "        #print(sentence_gold_str)\n",
    "        #print(sentence_pred_str)\n",
    "\n",
    "        pair = tuple((sentence_gold_str, sentence_pred_str))\n",
    "\n",
    "        for tag_idx in range(len(sentence_gold)):\n",
    "            pred_tag = sentence_pred[tag_idx]\n",
    "            gold_tag = sentence_gold[tag_idx]\n",
    "\n",
    "            if pred_tag == gold_tag:\n",
    "                if pred_tag != 'O':\n",
    "                    test_tp_map[pred_tag].add(pair)\n",
    "            else:\n",
    "                if pred_tag != 'O':\n",
    "                    test_fp_map[pred_tag].add(pair)\n",
    "                if gold_tag != 'O':\n",
    "                    test_fn_map[gold_tag].add(pair)\n",
    "\n",
    "        #break\n",
    "\n",
    "    print('Total TP examples : {}'.format(np.sum([len(test_tp_map[tag]) for tag in test_tp_map.keys()])))\n",
    "    print('Total FP examples : {}'.format(np.sum([len(test_fp_map[tag]) for tag in test_fp_map.keys()])))\n",
    "    print('Total FN examples : {}'.format(np.sum([len(test_fn_map[tag]) for tag in test_fn_map.keys()])))"
   ]
  },
  {
   "cell_type": "code",
   "execution_count": 33,
   "metadata": {
    "collapsed": true
   },
   "outputs": [],
   "source": [
    "def print_error_comparisons(pairs_set, error_type):\n",
    "    print('**************')\n",
    "    print(error_type)\n",
    "    for pair in pairs_set:\n",
    "        print(pair[0])\n",
    "        print(pair[1])\n",
    "        print('')\n",
    "    print('**************')"
   ]
  },
  {
   "cell_type": "code",
   "execution_count": 34,
   "metadata": {
    "collapsed": true
   },
   "outputs": [],
   "source": [
    "PRINT_ERROR_COMPARISONS = False"
   ]
  },
  {
   "cell_type": "code",
   "execution_count": 35,
   "metadata": {
    "collapsed": true
   },
   "outputs": [],
   "source": [
    "# Let's enumerate opportunities\n",
    "if PRINT_ERROR_COMPARISONS:\n",
    "    print_error_comparisons(test_fn_map['ADE'], 'False Negatives')"
   ]
  },
  {
   "cell_type": "code",
   "execution_count": 36,
   "metadata": {
    "collapsed": true
   },
   "outputs": [],
   "source": [
    "# Let's enumerate opportunities\n",
    "if PRINT_ERROR_COMPARISONS:\n",
    "    print_error_comparisons(test_fp_map['ADE'], 'False Positives')"
   ]
  },
  {
   "cell_type": "code",
   "execution_count": 37,
   "metadata": {
    "collapsed": true
   },
   "outputs": [],
   "source": [
    "# Let's enumerate opportunities\n",
    "if PRINT_ERROR_COMPARISONS:\n",
    "    print_error_comparisons(test_fn_map['Indication'], 'False Negatives')"
   ]
  },
  {
   "cell_type": "code",
   "execution_count": 38,
   "metadata": {
    "collapsed": true
   },
   "outputs": [],
   "source": [
    "# Let's enumerate opportunities\n",
    "if PRINT_ERROR_COMPARISONS:\n",
    "    print_error_comparisons(test_fp_map['Indication'], 'False Positives')"
   ]
  },
  {
   "cell_type": "code",
   "execution_count": 39,
   "metadata": {
    "collapsed": true
   },
   "outputs": [],
   "source": [
    "# Let's enumerate opportunities\n",
    "if PRINT_ERROR_COMPARISONS:\n",
    "    print_error_comparisons(test_fn_map['SSLIF'], 'False Negatives')"
   ]
  },
  {
   "cell_type": "code",
   "execution_count": 40,
   "metadata": {
    "collapsed": true
   },
   "outputs": [],
   "source": [
    "# Let's enumerate opportunities\n",
    "if PRINT_ERROR_COMPARISONS:\n",
    "    print_error_comparisons(test_fp_map['SSLIF'], 'False Positives')"
   ]
  },
  {
   "cell_type": "markdown",
   "metadata": {},
   "source": [
    "# Examining top features"
   ]
  },
  {
   "cell_type": "code",
   "execution_count": 41,
   "metadata": {},
   "outputs": [
    {
     "name": "stdout",
     "output_type": "stream",
     "text": [
      "Top positive:\n",
      "4.532213 O        -1wlow:bos\n",
      "4.031029 B-Severity 0c[-3:]:/10\n",
      "3.917365 O        0wlow:none\n",
      "3.577007 B-Drug   0c[-3:]:ole\n",
      "3.561853 B-Indication 0wlow:prophylactic\n",
      "3.514258 O        0wlow:hemodialysis\n",
      "3.500988 O        0wlow:dialysis\n",
      "3.332599 B-Drug   0c[-2:]:ol\n",
      "3.318772 B-Drug   0wlow:prednisone\n",
      "3.245829 O        0wlow:diagnosis\n",
      "3.215493 B-Drug   0wlow:pamidronate\n",
      "3.215493 B-Drug   0word[:3]:pam\n",
      "3.145599 O        0wlow:male\n",
      "3.137272 B-SSLIF  0c[-3:]:aly\n",
      "3.134179 B-SSLIF  0wlow:hemorrhage\n",
      "3.063506 B-Drug   0word[:3]:rit\n",
      "3.063367 B-SSLIF  0wlow:pale\n",
      "3.044454 O        0wlow:healthy\n",
      "3.018728 B-Drug   0wlow:reclast\n",
      "2.914272 B-Drug   0wlow:thalidomide\n",
      "2.880141 B-Frequency 0c[:2]:q.\n",
      "2.834104 B-SSLIF  0wlow:died\n",
      "2.831823 B-SSLIF  0wlow:cough\n",
      "2.809568 B-Drug   0c[-3:]:rin\n",
      "2.786923 B-SSLIF  0c[-3:]:ias\n",
      "2.738613 B-SSLIF  0wlow:effusion\n",
      "2.695660 B-Drug   0c[-3:]:ron\n",
      "2.687784 B-Drug   0word[:3]:ant\n",
      "2.647233 B-Dose   0c[-2:]:mg\n",
      "2.644620 B-SSLIF  -1word[:3]:no_\n",
      "2.597249 B-Route  0wlow:infusion\n",
      "2.569908 B-Severity 0c[-2:]:10\n",
      "2.569667 B-Drug   0c[-3:]:vir\n",
      "2.550425 O        0wlow:information\n",
      "2.545438 B-SSLIF  0wlow:comatose\n",
      "2.517013 B-Drug   0c[-2:]:in\n",
      "2.505865 B-Severity 0word[:3]:sig\n",
      "2.496868 B-SSLIF  0word[:3]:obe\n",
      "2.496232 B-SSLIF  0wlow:cancers\n",
      "2.484965 B-Drug   0wlow:revlimid\n",
      "2.484017 B-SSLIF  0wlow:incontinence\n",
      "2.475627 B-ADE    0wlow:hives\n",
      "2.448633 B-Drug   0c[-3:]:ins\n",
      "2.400724 B-Drug   0word[:3]:mul\n",
      "2.373629 B-Drug   0word[:3]:cef\n",
      "2.369155 B-Drug   0word[:3]:dox\n",
      "2.364484 B-ADE    0word[:3]:hiv\n",
      "2.353941 B-Drug   0c[-2:]:ir\n",
      "2.345313 O        0wlow:several\n",
      "2.337569 B-Drug   0c[-2:]:im\n",
      "\n",
      "Top negative:\n",
      "-1.974536 B-SSLIF  0c[:2]:to\n",
      "-1.981778 B-SSLIF  -1c[-3:]:ary\n",
      "-1.983450 O        0wlow:neutropenic\n",
      "-1.993696 B-SSLIF  0w.all_punct\n",
      "-2.002764 O        0word[:3]:coa\n",
      "-2.009243 O        0word[:3]:ras\n",
      "-2.012588 O        0wlow:follicular\n",
      "-2.048769 B-SSLIF  0pos:CD\n",
      "-2.051290 B-SSLIF  0word[:3]:not\n",
      "-2.055983 B-Drug   0c[-2:]:is\n",
      "-2.064111 O        0word[:3]:swe\n",
      "-2.065117 I-SSLIF  -1c[-3:]:sis\n",
      "-2.080997 O        0word[:3]:nau\n",
      "-2.098079 O        0word[:3]:tin\n",
      "-2.100562 B-Drug   0w.isdigit\n",
      "-2.118994 B-SSLIF  0word[:3]:his\n",
      "-2.124359 O        0word[:3]:ulc\n",
      "-2.128257 O        0wlow:forehead\n",
      "-2.129072 O        0word[:3]:inh\n",
      "-2.131369 O        0wlow:confusion\n",
      "-2.135248 B-SSLIF  0c[:2]:is\n",
      "-2.138923 B-SSLIF  0c[-3:]:her\n",
      "-2.190036 B-SSLIF  0pos:PRP\n",
      "-2.191010 O        0wlow:neuropathy\n",
      "-2.191837 O        0c[-3:]:/10\n",
      "-2.228857 O        0c[-2:]:ia\n",
      "-2.234962 B-Dose   0w.all_punct\n",
      "-2.265362 B-Frequency 0w.all_punct\n",
      "-2.292486 O        0wlow:chills\n",
      "-2.294868 O        0c[:2]:zo\n",
      "-2.326309 O        0c[-3:]:aly\n",
      "-2.345136 O        0c[-2:]:ma\n",
      "-2.359404 O        0wlow:paraprotein\n",
      "-2.379145 O        0word[:3]:inf\n",
      "-2.409169 O        0c[-3:]:mor\n",
      "-2.459441 O        0wlow:diarrhea\n",
      "-2.481981 B-SSLIF  0pos:DT\n",
      "-2.495586 O        0word[:3]:bru\n",
      "-2.503342 O        0c[-3:]:che\n",
      "-2.540859 O        0word[:3]:hyp\n",
      "-2.555122 O        0word[:3]:pai\n",
      "-2.666434 O        0wlow:died\n",
      "-2.727406 O        0wlow:fever\n",
      "-2.747044 O        0word[:3]:fev\n",
      "-2.772089 O        0wlow:lesion\n",
      "-2.865050 O        0c[:2]:vo\n",
      "-3.090045 O        0word[:3]:mas\n",
      "-3.736414 O        0wlow:constipation\n",
      "-3.964785 O        0wlow:cough\n",
      "-4.244024 O        0c[-3:]:tis\n"
     ]
    }
   ],
   "source": [
    "def print_state_features(state_features):\n",
    "    for (attr, label), weight in state_features:\n",
    "        print(\"%0.6f %-8s %s\" % (weight, label, attr))\n",
    "\n",
    "TOP_N_FEATURES = 50 \n",
    "\n",
    "if SINGLE_FOLD_FIT:\n",
    "        \n",
    "    print(\"Top positive:\")\n",
    "    print_state_features(Counter(crf.state_features_).most_common(TOP_N_FEATURES))\n",
    "\n",
    "    print(\"\\nTop negative:\")\n",
    "    print_state_features(Counter(crf.state_features_).most_common()[-1 * TOP_N_FEATURES:])"
   ]
  },
  {
   "cell_type": "markdown",
   "metadata": {},
   "source": [
    "# Optionally run a full parameter search"
   ]
  },
  {
   "cell_type": "code",
   "execution_count": 42,
   "metadata": {},
   "outputs": [
    {
     "name": "stdout",
     "output_type": "stream",
     "text": [
      "Wall time: 0 ns\n"
     ]
    }
   ],
   "source": [
    "%%time\n",
    "\n",
    "PERFORM_PARAM_SEARCH = False\n",
    "\n",
    "MULTICORE_PARAM_FOLDS = 5\n",
    "# each fold can take 2 to 2.5 GB, so with the parent process we can only fit 4 folds into 16 GB\n",
    "MULTICORE_PARAM_JOBS = 1\n",
    "MULTICORE_PARAM_ITERATIONS = 3\n",
    "\n",
    "rs = None\n",
    "\n",
    "if PERFORM_PARAM_SEARCH:\n",
    "    print('Starting Param Search...')\n",
    "    \n",
    "    params_space = {\n",
    "        #'c1' : expon(scale = 0.5), # search range in sklearn_crfsuite example\n",
    "        #'c2' : expon(scale = 0.05) \n",
    "        'c1' : [0.1, 0.2, 0.3, 0.4, 0.5, 0.75, 1.0, 5.0, 10.0],\n",
    "        'c2' : [0.1, 0.2, 0.3, 0.4, 0.5, 0.75, 1.0, 5.0, 10.0]\n",
    "    }\n",
    "    \n",
    "    f1_scorer = make_scorer(metrics.flat_f1_score, average = 'weighted', labels = labels)\n",
    "    \n",
    "    rs = RandomizedSearchCV(crf, params_space, \n",
    "                                   cv = MULTICORE_PARAM_FOLDS,\n",
    "                                   verbose = 1,\n",
    "                                   n_jobs = MULTICORE_PARAM_JOBS,\n",
    "                                   n_iter = MULTICORE_PARAM_ITERATIONS,\n",
    "                                   random_state = int(time.time() % 100),\n",
    "                                   scoring = f1_scorer)\n",
    "\n",
    "    rs.fit(X_train_feat, y_train)\n",
    "\n",
    "    print('Best params : {}'.format(rs.best_params_))\n",
    "    print('Best CV score : {}'.format(rs.best_score_))\n",
    "    print('model size : {:0.2f}M'.format(rs.best_estimator_.size_ / 1000000))\n",
    "\n",
    "    best_model = rs.best_estimator_\n",
    "\n",
    "    validation_start_time = time.time()\n",
    "\n",
    "    print('Now performing additional validation')\n",
    "\n",
    "    #f1 = _score(estimator, X_test, y_test, scorer, is_multimetric=False)\n",
    "    test_pred_unflattened = best_model.predict(X_test_feat)\n",
    "\n",
    "    print('**********')\n",
    "    #print('AUC : {0}'.format(auc))\n",
    "    #print('TEST F1 : {0}'.format(f1))\n",
    "    #print('TEST Precision : {0}'.format(precision))\n",
    "    #print('TEST Recall : {0}'.format(recall))\n",
    "\n",
    "    print('Report for CV (TRAIN):')\n",
    "    # use these flattened versions\n",
    "    print(sklearn_crfsuite.metrics.flat_classification_report(\n",
    "                    [get_coarse_labels(x) for x in y_train], \n",
    "                     [get_coarse_labels(x) for x in best_model.predict(X_train_feat)],\n",
    "                    labels = sorted_coarse_labels, digits = 3))\n",
    "\n",
    "    print('Report for CV (TEST):')\n",
    "    # use these flattened versions\n",
    "    print(sklearn_crfsuite.metrics.flat_classification_report(\n",
    "                    [get_coarse_labels(x) for x in y_test], \n",
    "                     [get_coarse_labels(x) for x in test_pred_unflattened],\n",
    "                    labels = sorted_coarse_labels, digits = 3))\n",
    "\n",
    "    print('Total time for validation : {} seconds'.format(time.time() - validation_start_time))"
   ]
  },
  {
   "cell_type": "code",
   "execution_count": 43,
   "metadata": {
    "collapsed": true
   },
   "outputs": [],
   "source": [
    "# Plotting of params from RandomSearch...\n",
    "if rs is not None:\n",
    "    print('Preparing plot of RandomSearch results...')\n",
    "    _x = [s.parameters['c1'] for s in rs.grid_scores_]\n",
    "    _y = [s.parameters['c2'] for s in rs.grid_scores_]\n",
    "    _c = [s.mean_validation_score for s in rs.grid_scores_]\n",
    "\n",
    "    fig = plt.figure()\n",
    "    fig.set_size_inches(12, 12)\n",
    "    ax = plt.gca()\n",
    "    ax.set_yscale('log')\n",
    "    ax.set_xscale('log')\n",
    "    ax.set_xlabel('C1')\n",
    "    ax.set_ylabel('C2')\n",
    "    ax.set_title(\"Randomized Hyperparameter Search CV Results (F1) (min={:0.3}, max={:0.3})\".format(\n",
    "        min(_c), max(_c)\n",
    "    ))\n",
    "\n",
    "    ax.scatter(_x, _y, c=_c, s=60, alpha=0.9, edgecolors=[0,0,0])\n",
    "\n",
    "    print(\"Dark blue => {:0.4} F1, dark red => {:0.4} F1\".format(min(_c), max(_c)))"
   ]
  },
  {
   "cell_type": "markdown",
   "metadata": {},
   "source": [
    "# Finally, if enabled, we will write out the appropriate predictions based on the features and the run for final submission for the challenge"
   ]
  },
  {
   "cell_type": "code",
   "execution_count": 44,
   "metadata": {},
   "outputs": [
    {
     "name": "stdout",
     "output_type": "stream",
     "text": [
      "Preparing to write HOLD OUIT predictions...\n",
      "Prepping to write predictions to : final_predictions/Task1-Baseline_and_characters-Run1\n",
      "Reading unlabeled source files from : C:\\temp_MADE/made1.0_task1_3_test\n",
      "Total annotated documents loaded : 213\n",
      "Total Final Holdout Docs : 213\n",
      "Total documents for evaluation : 213\n",
      "Existing files removed : 0\n",
      "Total prediction documents written : 213\n",
      "DONE writing out HOLDOUT predictions\n"
     ]
    }
   ],
   "source": [
    "if WRITE_TEST_PREDICTIONS:\n",
    "    print('Preparing to write HOLD OUIT predictions...')\n",
    "    TEST_PRED_BASE_DIR = 'final_predictions'\n",
    "    TEST_SOURCE_SUBDIR = 'made1.0_task1_3_test'\n",
    "    TEST_SOURCE_DIR = r'{0}/{1}'.format(MADE_ALL_SETS_BASE_DIR, TEST_SOURCE_SUBDIR)\n",
    "    test_pred_run_subdir = r'{0}/Task1-{1}-{2}'.format(TEST_PRED_BASE_DIR, FEATURE_SET, RUN_NAME)\n",
    "    print('Prepping to write predictions to : {}'.format(test_pred_run_subdir))\n",
    "    \n",
    "    print('Reading unlabeled source files from : {}'.format(TEST_SOURCE_DIR))\n",
    "    holdout_test_docs = read_made_data(TEST_SOURCE_DIR, made_tokenizer)\n",
    "\n",
    "    print('Total Final Holdout Docs : {}'.format(len(holdout_test_docs)))\n",
    "    \n",
    "    # pass None as the MADE base dir since there are no gold labels for comparison\n",
    "    evaluate_via_bioc(holdout_test_docs, crf, extractor, test_pred_run_subdir, None)\n",
    "    \n",
    "    print('DONE writing out HOLDOUT predictions')"
   ]
  },
  {
   "cell_type": "code",
   "execution_count": 45,
   "metadata": {},
   "outputs": [
    {
     "name": "stdout",
     "output_type": "stream",
     "text": [
      "Preparing to write ALL GOLD predictions...\n",
      "Total Gold Prediction Docs : 876\n",
      "Total documents for evaluation : 876\n",
      "Existing files removed : 876\n",
      "Total prediction documents written : 876\n",
      "DONE writing out ALL GOLD predictions\n"
     ]
    }
   ],
   "source": [
    "PREDICT_ON_ALL_GOLD_DATA = True\n",
    "if PREDICT_ON_ALL_GOLD_DATA:\n",
    "    print('Preparing to write ALL GOLD predictions...')\n",
    "    GOLD_PRED_BASE_DIR = 'all_gold_predictions'\n",
    "\n",
    "    print('Total Gold Prediction Docs : {}'.format(len(train_docs + test_docs)))\n",
    "    \n",
    "    # pass None as the MADE base dir since there are no gold labels for comparison\n",
    "    evaluate_via_bioc(train_docs + test_docs, crf, extractor, GOLD_PRED_BASE_DIR, None)\n",
    "    \n",
    "    print('DONE writing out ALL GOLD predictions')"
   ]
  },
  {
   "cell_type": "markdown",
   "metadata": {},
   "source": [
    "# Final NER predictions for the released labeled data"
   ]
  },
  {
   "cell_type": "code",
   "execution_count": 46,
   "metadata": {},
   "outputs": [
    {
     "name": "stdout",
     "output_type": "stream",
     "text": [
      "Predicting on final HOLDOUT data...\n",
      "Feature set : Baseline_and_characters\n",
      "Total annotated documents loaded : 213\n",
      "Total Final Labeled Holdout Docs : 213\n",
      "Total documents for evaluation : 213\n",
      "Existing files removed : 213\n",
      "Total prediction documents written : 213\n",
      "The support, recall, precision, and f-score for Task NER-STRICT : Category Drug is 2395,0.7974947807933194,0.8891992551210428,0.8408540611930442\n",
      "The support, recall, precision, and f-score for Task NER-STRICT : Category Indication is 636,0.28459119496855345,0.6534296028880866,0.3964950711938664\n",
      "The support, recall, precision, and f-score for Task NER-STRICT : Category Frequency is 659,0.7830045523520486,0.8336025848142165,0.8075117370892018\n",
      "The support, recall, precision, and f-score for Task NER-STRICT : Category Severity is 534,0.7528089887640449,0.8720173535791758,0.8080402010050252\n",
      "The support, recall, precision, and f-score for Task NER-STRICT : Category Dose is 801,0.8202247191011236,0.8938775510204081,0.8554687499999999\n",
      "The support, recall, precision, and f-score for Task NER-STRICT : Category Duration is 133,0.6992481203007519,0.7322834645669292,0.7153846153846154\n",
      "The support, recall, precision, and f-score for Task NER-STRICT : Category Route is 389,0.8663239074550129,0.9413407821229051,0.9022757697456494\n",
      "The support, recall, precision, and f-score for Task NER-STRICT : Category ADE is 431,0.2505800464037123,0.7058823529411765,0.3698630136986301\n",
      "The support, recall, precision, and f-score for Task NER-STRICT : Category SSLIF is 5329,0.7933946331394258,0.7756374977068428,0.7844155844155845\n",
      "The support, recall, precision, and f-score for Task NER-STRICT : Micro score is 11307,0.7457327319359689,0.8163423371091103,0.7794416712885932\n",
      "The support, recall, precision, and f-score for Task NER-APPROXIMATE : Category Drug is 2836,0.8335684062059239,0.9263322884012539,0.8775055679287306\n",
      "The support, recall, precision, and f-score for Task NER-APPROXIMATE : Category Indication is 1437,0.25400139178844816,0.6939163498098859,0.3718797758532858\n",
      "The support, recall, precision, and f-score for Task NER-APPROXIMATE : Category Frequency is 1890,0.8238095238095238,0.9057591623036649,0.8628428927680798\n",
      "The support, recall, precision, and f-score for Task NER-APPROXIMATE : Category Severity is 811,0.7891491985203453,0.8938547486033519,0.8382449246889326\n",
      "The support, recall, precision, and f-score for Task NER-APPROXIMATE : Category Dose is 1731,0.9075678798382438,0.9632127529123238,0.934562760261749\n",
      "The support, recall, precision, and f-score for Task NER-APPROXIMATE : Category Duration is 277,0.7256317689530686,0.8271604938271605,0.773076923076923\n",
      "The support, recall, precision, and f-score for Task NER-APPROXIMATE : Category Route is 410,0.8512195121951219,0.9561643835616438,0.9006451612903225\n",
      "The support, recall, precision, and f-score for Task NER-APPROXIMATE : Category ADE is 684,0.24853801169590642,0.7391304347826086,0.37199124726477023\n",
      "The support, recall, precision, and f-score for Task NER-APPROXIMATE : Category SSLIF is 10001,0.8037196280371963,0.7846544318625537,0.7940726105211164\n",
      "The support, recall, precision, and f-score for Task NER-APPROXIMATE : Micro score is 20077,0.7598246750012452,0.8369911115988149,0.7965433516956896\n",
      "The support, recall, precision, and f-score for Task RELATION : Category severity_type is 0,0.0,0.0,0.0\n",
      "The support, recall, precision, and f-score for Task RELATION : Category manner/route is 0,0.0,0.0,0.0\n",
      "The support, recall, precision, and f-score for Task RELATION : Category reason is 0,0.0,0.0,0.0\n",
      "The support, recall, precision, and f-score for Task RELATION : Category do is 0,0.0,0.0,0.0\n",
      "The support, recall, precision, and f-score for Task RELATION : Category du is 0,0.0,0.0,0.0\n",
      "The support, recall, precision, and f-score for Task RELATION : Category fr is 0,0.0,0.0,0.0\n",
      "The support, recall, precision, and f-score for Task RELATION : Category adverse is 0,0.0,0.0,0.0\n",
      "The support, recall, precision, and f-score for Task RELATION : Micro score is 0,0.0,0.0,0.0\n",
      "DONE writing out HOLDOUT labeled predictions\n"
     ]
    }
   ],
   "source": [
    "PREDICT_ON_FINAL_HOLDOUT_DATA = True\n",
    "\n",
    "relations_system_base_dir = 'relations_system'\n",
    "# make this a level underneath so that we can all it easily\n",
    "ner_final_predictions_subdir = 'ner_final_predictions_dir'\n",
    "ner_final_predictions_dir = r'{0}/{1}'.format(relations_system_base_dir, ner_final_predictions_subdir)\n",
    "ner_final_predictions_annotations_dir = r'{0}/annotations'.format(ner_final_predictions_dir)\n",
    "\n",
    "if not os.path.exists(ner_final_predictions_dir):\n",
    "    os.makedirs(ner_final_predictions_dir)\n",
    "    \n",
    "if not os.path.exists(ner_final_predictions_annotations_dir):\n",
    "    os.makedirs(ner_final_predictions_annotations_dir)\n",
    "\n",
    "if PREDICT_ON_FINAL_HOLDOUT_DATA:\n",
    "    print('Predicting on final HOLDOUT data...')\n",
    "    print('Feature set : {}'.format(FEATURE_SET))\n",
    "    MADE_FINAL_HOLDOUT_DIR = r'{0}\\made1.0_task1_3_test'.format(MADE_ALL_SETS_BASE_DIR)\n",
    "    \n",
    "    holdout_labeled_test_docs = read_made_data(MADE_FINAL_HOLDOUT_DIR, made_tokenizer)\n",
    "\n",
    "    print('Total Final Labeled Holdout Docs : {}'.format(len(holdout_labeled_test_docs)))\n",
    "    \n",
    "    # pass None as the MADE base dir since there are no gold labels for comparison\n",
    "    evaluate_via_bioc(holdout_labeled_test_docs, crf, extractor, ner_final_predictions_annotations_dir, \n",
    "                      made_base_dir = MADE_FINAL_HOLDOUT_DIR )\n",
    "    \n",
    "    print('DONE writing out HOLDOUT labeled predictions')"
   ]
  },
  {
   "cell_type": "markdown",
   "metadata": {},
   "source": [
    "# Finally we write out BIOC files for Task 2 and also Task 3. \n",
    "The resulting directories can be checked to ensure that they match our final submission"
   ]
  },
  {
   "cell_type": "code",
   "execution_count": 47,
   "metadata": {},
   "outputs": [],
   "source": [
    "RUN_RELATION_SYSTEM = False\n",
    "\n",
    "python_cmd = r'C:\\git\\MADE_challenge\\notebooks\\relations_system\\relations\\Scripts\\python'\n",
    "\n",
    "if RUN_RELATION_SYSTEM:\n",
    "    # first let's run everything for Task 2...\n",
    "    print('Running relation system for Task 2...')\n",
    "    \n",
    "    task2_dir = 'task2_relation_predictions'\n",
    "    task2_full_path = '{0}/{1}'.format(relations_system_base_dir, task2_dir)\n",
    "    \n",
    "    if not os.path.exists(task2_full_path):\n",
    "        os.makedirs(task2_full_path)\n",
    "    \n",
    "    # invoke the relation script (via the virtual environment)\n",
    "    task_2cmd = r'relations.py --datadir {0} --outdir {1}'.format(MADE_FINAL_HOLDOUT_DIR, task2_dir)\n",
    "    full_task_2_cmd= r'{0} {1}'.format(python_cmd, task_2cmd)\n",
    "    \n",
    "    print(full_task_2_cmd)\n",
    "    \n",
    "    print('Calling script to predict for Task 2...')\n",
    "    ret = subprocess.call(full_task_2_cmd, shell = True, cwd = './{0}'.format(relations_system_base_dir))\n",
    "    \n",
    "    if ret != 0:\n",
    "        print('Task 2 command failed.')\n",
    "        raise Exception('Task 2 command failed')\n",
    "    \n",
    "    # no F scores for the Task 2 data as of 8:22pm on March 7\n",
    "    #get_f_scores(r'{0}/annotations'.format(MADE_FINAL_HOLDOUT_DIR),\n",
    "    #             relation_prediction_full_path,\n",
    "    #             r'{0}/corpus'.format(MADE_FINAL_HOLDOUT_DIR))\n",
    "    \n",
    "    print('Task 2 relations BIOC files written to : {}'.format(task2_full_path))"
   ]
  },
  {
   "cell_type": "code",
   "execution_count": 48,
   "metadata": {},
   "outputs": [],
   "source": [
    "if RUN_RELATION_SYSTEM:\n",
    "    print('Prepping to run predictions for Task 3 (full system from NER predictions above and this)')\n",
    "    \n",
    "    # and then let's use the NER predictions writen above to demonstrate the full system\n",
    "    task3_dir = 'task3_full_system_predictions'\n",
    "    task3_full_path = '{0}/{1}'.format(relations_system_base_dir, task3_dir)\n",
    "    \n",
    "    if not os.path.exists(task3_full_path):\n",
    "        os.makedirs(task3_full_path)\n",
    "    \n",
    "    # here we want the directory that is the PARENT of /corpus (already in place) \n",
    "    # and /annotations (written in the cell above)\n",
    "    task_3cmd = r'relations.py --datadir {0} --outdir {1}'.format(ner_final_predictions_subdir, \n",
    "                                                                  task3_dir)\n",
    "    full_task_3_cmd= r'{0} {1}'.format(python_cmd, task_3cmd)\n",
    "    \n",
    "    print(full_task_3_cmd)\n",
    "    \n",
    "    print('Calling script to predict for Task 3...')\n",
    "    ret = subprocess.call(full_task_3_cmd, shell = True, cwd = './{0}'.format(relations_system_base_dir))\n",
    "    \n",
    "    if ret != 0:\n",
    "        print('Task 3 command failed.')\n",
    "        raise Exception('Task 3 command failed')\n",
    "    \n",
    "    # no F scores for the Task 2 data as of 8:22pm on March 7\n",
    "    #get_f_scores(r'{0}/annotations'.format(MADE_FINAL_HOLDOUT_DIR),\n",
    "    #             relation_prediction_full_path,\n",
    "    #             r'{0}/corpus'.format(MADE_FINAL_HOLDOUT_DIR))\n",
    "    \n",
    "    print('Task 3 relations BIOC files written to : {}'.format(task3_full_path))\n",
    "    \n",
    "    print('DONE with all Task 2 and Task 3 files.  These should match our submissions')"
   ]
  },
  {
   "cell_type": "code",
   "execution_count": null,
   "metadata": {
    "collapsed": true
   },
   "outputs": [],
   "source": []
  }
 ],
 "metadata": {
  "kernelspec": {
   "display_name": "Python 3",
   "language": "python",
   "name": "python3"
  },
  "language_info": {
   "codemirror_mode": {
    "name": "ipython",
    "version": 3
   },
   "file_extension": ".py",
   "mimetype": "text/x-python",
   "name": "python",
   "nbconvert_exporter": "python",
   "pygments_lexer": "ipython3",
   "version": "3.6.1"
  }
 },
 "nbformat": 4,
 "nbformat_minor": 2
}
